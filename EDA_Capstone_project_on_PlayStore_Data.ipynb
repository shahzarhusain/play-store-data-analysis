{
  "nbformat": 4,
  "nbformat_minor": 0,
  "metadata": {
    "colab": {
      "name": "EDA Capstone project on PlayStore Data.ipynb",
      "provenance": [],
      "mount_file_id": "1ymkO3sTDYawajrxMYZ6gOreX8HTHqJOa",
      "authorship_tag": "ABX9TyMha/2sucNbmv0z1je9LlmW",
      "include_colab_link": true
    },
    "kernelspec": {
      "name": "python3",
      "display_name": "Python 3"
    },
    "language_info": {
      "name": "python"
    }
  },
  "cells": [
    {
      "cell_type": "markdown",
      "metadata": {
        "id": "view-in-github",
        "colab_type": "text"
      },
      "source": [
        "<a href=\"https://colab.research.google.com/github/shahzarhusain/play-store-data-analysis/blob/main/EDA_Capstone_project_on_PlayStore_Data.ipynb\" target=\"_parent\"><img src=\"https://colab.research.google.com/assets/colab-badge.svg\" alt=\"Open In Colab\"/></a>"
      ]
    },
    {
      "cell_type": "code",
      "execution_count": null,
      "metadata": {
        "id": "U145gjSOX8G6"
      },
      "outputs": [],
      "source": [
        " # importing necessary libraries\n",
        "import numpy as np\n",
        "import pandas as pd\n",
        "import matplotlib.pyplot as plt\n",
        "import seaborn as sns\n",
        "%matplotlib inline"
      ]
    },
    {
      "cell_type": "code",
      "source": [
        "#importing the dataset to work on \n",
        "df = pd.read_csv('/content/drive/MyDrive/AlmaBetter_datasets/Copy of Play Store Data.csv')"
      ],
      "metadata": {
        "id": "j-NG92RJYhSA"
      },
      "execution_count": null,
      "outputs": []
    },
    {
      "cell_type": "markdown",
      "source": [
        "# Basic evaluation of the dataset"
      ],
      "metadata": {
        "id": "N3wOZ4H7Y_S4"
      }
    },
    {
      "cell_type": "code",
      "source": [
        "df.shape"
      ],
      "metadata": {
        "colab": {
          "base_uri": "https://localhost:8080/"
        },
        "id": "a5q21ysXY1wN",
        "outputId": "7438fcd4-9390-4035-e923-695c2ce913ac"
      },
      "execution_count": null,
      "outputs": [
        {
          "output_type": "execute_result",
          "data": {
            "text/plain": [
              "(10841, 13)"
            ]
          },
          "metadata": {},
          "execution_count": 223
        }
      ]
    },
    {
      "cell_type": "code",
      "source": [
        "df.head()"
      ],
      "metadata": {
        "colab": {
          "base_uri": "https://localhost:8080/",
          "height": 206
        },
        "id": "sCZTpD2LY31H",
        "outputId": "fc94e040-2e92-45e8-8214-7b02d9db139a"
      },
      "execution_count": null,
      "outputs": [
        {
          "output_type": "execute_result",
          "data": {
            "text/plain": [
              "                                                 App        Category  Rating  \\\n",
              "0     Photo Editor & Candy Camera & Grid & ScrapBook  ART_AND_DESIGN     4.1   \n",
              "1                                Coloring book moana  ART_AND_DESIGN     3.9   \n",
              "2  U Launcher Lite – FREE Live Cool Themes, Hide ...  ART_AND_DESIGN     4.7   \n",
              "3                              Sketch - Draw & Paint  ART_AND_DESIGN     4.5   \n",
              "4              Pixel Draw - Number Art Coloring Book  ART_AND_DESIGN     4.3   \n",
              "\n",
              "  Reviews  Size     Installs  Type Price Content Rating  \\\n",
              "0     159   19M      10,000+  Free     0       Everyone   \n",
              "1     967   14M     500,000+  Free     0       Everyone   \n",
              "2   87510  8.7M   5,000,000+  Free     0       Everyone   \n",
              "3  215644   25M  50,000,000+  Free     0           Teen   \n",
              "4     967  2.8M     100,000+  Free     0       Everyone   \n",
              "\n",
              "                      Genres      Last Updated         Current Ver  \\\n",
              "0               Art & Design   January 7, 2018               1.0.0   \n",
              "1  Art & Design;Pretend Play  January 15, 2018               2.0.0   \n",
              "2               Art & Design    August 1, 2018               1.2.4   \n",
              "3               Art & Design      June 8, 2018  Varies with device   \n",
              "4    Art & Design;Creativity     June 20, 2018                 1.1   \n",
              "\n",
              "    Android Ver  \n",
              "0  4.0.3 and up  \n",
              "1  4.0.3 and up  \n",
              "2  4.0.3 and up  \n",
              "3    4.2 and up  \n",
              "4    4.4 and up  "
            ],
            "text/html": [
              "\n",
              "  <div id=\"df-c0f384ba-ec50-4f3f-959f-7f01ee245141\">\n",
              "    <div class=\"colab-df-container\">\n",
              "      <div>\n",
              "<style scoped>\n",
              "    .dataframe tbody tr th:only-of-type {\n",
              "        vertical-align: middle;\n",
              "    }\n",
              "\n",
              "    .dataframe tbody tr th {\n",
              "        vertical-align: top;\n",
              "    }\n",
              "\n",
              "    .dataframe thead th {\n",
              "        text-align: right;\n",
              "    }\n",
              "</style>\n",
              "<table border=\"1\" class=\"dataframe\">\n",
              "  <thead>\n",
              "    <tr style=\"text-align: right;\">\n",
              "      <th></th>\n",
              "      <th>App</th>\n",
              "      <th>Category</th>\n",
              "      <th>Rating</th>\n",
              "      <th>Reviews</th>\n",
              "      <th>Size</th>\n",
              "      <th>Installs</th>\n",
              "      <th>Type</th>\n",
              "      <th>Price</th>\n",
              "      <th>Content Rating</th>\n",
              "      <th>Genres</th>\n",
              "      <th>Last Updated</th>\n",
              "      <th>Current Ver</th>\n",
              "      <th>Android Ver</th>\n",
              "    </tr>\n",
              "  </thead>\n",
              "  <tbody>\n",
              "    <tr>\n",
              "      <th>0</th>\n",
              "      <td>Photo Editor &amp; Candy Camera &amp; Grid &amp; ScrapBook</td>\n",
              "      <td>ART_AND_DESIGN</td>\n",
              "      <td>4.1</td>\n",
              "      <td>159</td>\n",
              "      <td>19M</td>\n",
              "      <td>10,000+</td>\n",
              "      <td>Free</td>\n",
              "      <td>0</td>\n",
              "      <td>Everyone</td>\n",
              "      <td>Art &amp; Design</td>\n",
              "      <td>January 7, 2018</td>\n",
              "      <td>1.0.0</td>\n",
              "      <td>4.0.3 and up</td>\n",
              "    </tr>\n",
              "    <tr>\n",
              "      <th>1</th>\n",
              "      <td>Coloring book moana</td>\n",
              "      <td>ART_AND_DESIGN</td>\n",
              "      <td>3.9</td>\n",
              "      <td>967</td>\n",
              "      <td>14M</td>\n",
              "      <td>500,000+</td>\n",
              "      <td>Free</td>\n",
              "      <td>0</td>\n",
              "      <td>Everyone</td>\n",
              "      <td>Art &amp; Design;Pretend Play</td>\n",
              "      <td>January 15, 2018</td>\n",
              "      <td>2.0.0</td>\n",
              "      <td>4.0.3 and up</td>\n",
              "    </tr>\n",
              "    <tr>\n",
              "      <th>2</th>\n",
              "      <td>U Launcher Lite – FREE Live Cool Themes, Hide ...</td>\n",
              "      <td>ART_AND_DESIGN</td>\n",
              "      <td>4.7</td>\n",
              "      <td>87510</td>\n",
              "      <td>8.7M</td>\n",
              "      <td>5,000,000+</td>\n",
              "      <td>Free</td>\n",
              "      <td>0</td>\n",
              "      <td>Everyone</td>\n",
              "      <td>Art &amp; Design</td>\n",
              "      <td>August 1, 2018</td>\n",
              "      <td>1.2.4</td>\n",
              "      <td>4.0.3 and up</td>\n",
              "    </tr>\n",
              "    <tr>\n",
              "      <th>3</th>\n",
              "      <td>Sketch - Draw &amp; Paint</td>\n",
              "      <td>ART_AND_DESIGN</td>\n",
              "      <td>4.5</td>\n",
              "      <td>215644</td>\n",
              "      <td>25M</td>\n",
              "      <td>50,000,000+</td>\n",
              "      <td>Free</td>\n",
              "      <td>0</td>\n",
              "      <td>Teen</td>\n",
              "      <td>Art &amp; Design</td>\n",
              "      <td>June 8, 2018</td>\n",
              "      <td>Varies with device</td>\n",
              "      <td>4.2 and up</td>\n",
              "    </tr>\n",
              "    <tr>\n",
              "      <th>4</th>\n",
              "      <td>Pixel Draw - Number Art Coloring Book</td>\n",
              "      <td>ART_AND_DESIGN</td>\n",
              "      <td>4.3</td>\n",
              "      <td>967</td>\n",
              "      <td>2.8M</td>\n",
              "      <td>100,000+</td>\n",
              "      <td>Free</td>\n",
              "      <td>0</td>\n",
              "      <td>Everyone</td>\n",
              "      <td>Art &amp; Design;Creativity</td>\n",
              "      <td>June 20, 2018</td>\n",
              "      <td>1.1</td>\n",
              "      <td>4.4 and up</td>\n",
              "    </tr>\n",
              "  </tbody>\n",
              "</table>\n",
              "</div>\n",
              "      <button class=\"colab-df-convert\" onclick=\"convertToInteractive('df-c0f384ba-ec50-4f3f-959f-7f01ee245141')\"\n",
              "              title=\"Convert this dataframe to an interactive table.\"\n",
              "              style=\"display:none;\">\n",
              "        \n",
              "  <svg xmlns=\"http://www.w3.org/2000/svg\" height=\"24px\"viewBox=\"0 0 24 24\"\n",
              "       width=\"24px\">\n",
              "    <path d=\"M0 0h24v24H0V0z\" fill=\"none\"/>\n",
              "    <path d=\"M18.56 5.44l.94 2.06.94-2.06 2.06-.94-2.06-.94-.94-2.06-.94 2.06-2.06.94zm-11 1L8.5 8.5l.94-2.06 2.06-.94-2.06-.94L8.5 2.5l-.94 2.06-2.06.94zm10 10l.94 2.06.94-2.06 2.06-.94-2.06-.94-.94-2.06-.94 2.06-2.06.94z\"/><path d=\"M17.41 7.96l-1.37-1.37c-.4-.4-.92-.59-1.43-.59-.52 0-1.04.2-1.43.59L10.3 9.45l-7.72 7.72c-.78.78-.78 2.05 0 2.83L4 21.41c.39.39.9.59 1.41.59.51 0 1.02-.2 1.41-.59l7.78-7.78 2.81-2.81c.8-.78.8-2.07 0-2.86zM5.41 20L4 18.59l7.72-7.72 1.47 1.35L5.41 20z\"/>\n",
              "  </svg>\n",
              "      </button>\n",
              "      \n",
              "  <style>\n",
              "    .colab-df-container {\n",
              "      display:flex;\n",
              "      flex-wrap:wrap;\n",
              "      gap: 12px;\n",
              "    }\n",
              "\n",
              "    .colab-df-convert {\n",
              "      background-color: #E8F0FE;\n",
              "      border: none;\n",
              "      border-radius: 50%;\n",
              "      cursor: pointer;\n",
              "      display: none;\n",
              "      fill: #1967D2;\n",
              "      height: 32px;\n",
              "      padding: 0 0 0 0;\n",
              "      width: 32px;\n",
              "    }\n",
              "\n",
              "    .colab-df-convert:hover {\n",
              "      background-color: #E2EBFA;\n",
              "      box-shadow: 0px 1px 2px rgba(60, 64, 67, 0.3), 0px 1px 3px 1px rgba(60, 64, 67, 0.15);\n",
              "      fill: #174EA6;\n",
              "    }\n",
              "\n",
              "    [theme=dark] .colab-df-convert {\n",
              "      background-color: #3B4455;\n",
              "      fill: #D2E3FC;\n",
              "    }\n",
              "\n",
              "    [theme=dark] .colab-df-convert:hover {\n",
              "      background-color: #434B5C;\n",
              "      box-shadow: 0px 1px 3px 1px rgba(0, 0, 0, 0.15);\n",
              "      filter: drop-shadow(0px 1px 2px rgba(0, 0, 0, 0.3));\n",
              "      fill: #FFFFFF;\n",
              "    }\n",
              "  </style>\n",
              "\n",
              "      <script>\n",
              "        const buttonEl =\n",
              "          document.querySelector('#df-c0f384ba-ec50-4f3f-959f-7f01ee245141 button.colab-df-convert');\n",
              "        buttonEl.style.display =\n",
              "          google.colab.kernel.accessAllowed ? 'block' : 'none';\n",
              "\n",
              "        async function convertToInteractive(key) {\n",
              "          const element = document.querySelector('#df-c0f384ba-ec50-4f3f-959f-7f01ee245141');\n",
              "          const dataTable =\n",
              "            await google.colab.kernel.invokeFunction('convertToInteractive',\n",
              "                                                     [key], {});\n",
              "          if (!dataTable) return;\n",
              "\n",
              "          const docLinkHtml = 'Like what you see? Visit the ' +\n",
              "            '<a target=\"_blank\" href=https://colab.research.google.com/notebooks/data_table.ipynb>data table notebook</a>'\n",
              "            + ' to learn more about interactive tables.';\n",
              "          element.innerHTML = '';\n",
              "          dataTable['output_type'] = 'display_data';\n",
              "          await google.colab.output.renderOutput(dataTable, element);\n",
              "          const docLink = document.createElement('div');\n",
              "          docLink.innerHTML = docLinkHtml;\n",
              "          element.appendChild(docLink);\n",
              "        }\n",
              "      </script>\n",
              "    </div>\n",
              "  </div>\n",
              "  "
            ]
          },
          "metadata": {},
          "execution_count": 224
        }
      ]
    },
    {
      "cell_type": "code",
      "source": [
        "df['Android Ver'].unique()"
      ],
      "metadata": {
        "colab": {
          "base_uri": "https://localhost:8080/"
        },
        "id": "F3di9X36fdKS",
        "outputId": "7b31a6d9-f76e-4cc0-8555-b127911af69a"
      },
      "execution_count": null,
      "outputs": [
        {
          "output_type": "execute_result",
          "data": {
            "text/plain": [
              "array(['4.0.3 and up', '4.2 and up', '4.4 and up', '2.3 and up',\n",
              "       '3.0 and up', '4.1 and up', '4.0 and up', '2.3.3 and up',\n",
              "       'Varies with device', '2.2 and up', '5.0 and up', '6.0 and up',\n",
              "       '1.6 and up', '1.5 and up', '2.1 and up', '7.0 and up',\n",
              "       '5.1 and up', '4.3 and up', '4.0.3 - 7.1.1', '2.0 and up',\n",
              "       '3.2 and up', '4.4W and up', '7.1 and up', '7.0 - 7.1.1',\n",
              "       '8.0 and up', '5.0 - 8.0', '3.1 and up', '2.0.1 and up',\n",
              "       '4.1 - 7.1.1', nan, '5.0 - 6.0', '1.0 and up', '2.2 - 7.1.1',\n",
              "       '5.0 - 7.1.1'], dtype=object)"
            ]
          },
          "metadata": {},
          "execution_count": 225
        }
      ]
    },
    {
      "cell_type": "code",
      "source": [
        "df.info()"
      ],
      "metadata": {
        "colab": {
          "base_uri": "https://localhost:8080/"
        },
        "id": "pAQUHbNvY5PI",
        "outputId": "2e506df6-2685-4f19-f1b5-9fa3e739f30c"
      },
      "execution_count": null,
      "outputs": [
        {
          "output_type": "stream",
          "name": "stdout",
          "text": [
            "<class 'pandas.core.frame.DataFrame'>\n",
            "RangeIndex: 10841 entries, 0 to 10840\n",
            "Data columns (total 13 columns):\n",
            " #   Column          Non-Null Count  Dtype  \n",
            "---  ------          --------------  -----  \n",
            " 0   App             10841 non-null  object \n",
            " 1   Category        10841 non-null  object \n",
            " 2   Rating          9367 non-null   float64\n",
            " 3   Reviews         10841 non-null  object \n",
            " 4   Size            10841 non-null  object \n",
            " 5   Installs        10841 non-null  object \n",
            " 6   Type            10840 non-null  object \n",
            " 7   Price           10841 non-null  object \n",
            " 8   Content Rating  10840 non-null  object \n",
            " 9   Genres          10841 non-null  object \n",
            " 10  Last Updated    10841 non-null  object \n",
            " 11  Current Ver     10833 non-null  object \n",
            " 12  Android Ver     10838 non-null  object \n",
            "dtypes: float64(1), object(12)\n",
            "memory usage: 1.1+ MB\n"
          ]
        }
      ]
    },
    {
      "cell_type": "code",
      "source": [
        "df.describe()"
      ],
      "metadata": {
        "colab": {
          "base_uri": "https://localhost:8080/",
          "height": 300
        },
        "id": "1Lq28tg9gEC5",
        "outputId": "ac38f775-ffd1-411f-beed-ed4fa2a3507e"
      },
      "execution_count": null,
      "outputs": [
        {
          "output_type": "execute_result",
          "data": {
            "text/plain": [
              "            Rating\n",
              "count  9367.000000\n",
              "mean      4.193338\n",
              "std       0.537431\n",
              "min       1.000000\n",
              "25%       4.000000\n",
              "50%       4.300000\n",
              "75%       4.500000\n",
              "max      19.000000"
            ],
            "text/html": [
              "\n",
              "  <div id=\"df-627e6667-781e-43d7-8659-75c0af726e87\">\n",
              "    <div class=\"colab-df-container\">\n",
              "      <div>\n",
              "<style scoped>\n",
              "    .dataframe tbody tr th:only-of-type {\n",
              "        vertical-align: middle;\n",
              "    }\n",
              "\n",
              "    .dataframe tbody tr th {\n",
              "        vertical-align: top;\n",
              "    }\n",
              "\n",
              "    .dataframe thead th {\n",
              "        text-align: right;\n",
              "    }\n",
              "</style>\n",
              "<table border=\"1\" class=\"dataframe\">\n",
              "  <thead>\n",
              "    <tr style=\"text-align: right;\">\n",
              "      <th></th>\n",
              "      <th>Rating</th>\n",
              "    </tr>\n",
              "  </thead>\n",
              "  <tbody>\n",
              "    <tr>\n",
              "      <th>count</th>\n",
              "      <td>9367.000000</td>\n",
              "    </tr>\n",
              "    <tr>\n",
              "      <th>mean</th>\n",
              "      <td>4.193338</td>\n",
              "    </tr>\n",
              "    <tr>\n",
              "      <th>std</th>\n",
              "      <td>0.537431</td>\n",
              "    </tr>\n",
              "    <tr>\n",
              "      <th>min</th>\n",
              "      <td>1.000000</td>\n",
              "    </tr>\n",
              "    <tr>\n",
              "      <th>25%</th>\n",
              "      <td>4.000000</td>\n",
              "    </tr>\n",
              "    <tr>\n",
              "      <th>50%</th>\n",
              "      <td>4.300000</td>\n",
              "    </tr>\n",
              "    <tr>\n",
              "      <th>75%</th>\n",
              "      <td>4.500000</td>\n",
              "    </tr>\n",
              "    <tr>\n",
              "      <th>max</th>\n",
              "      <td>19.000000</td>\n",
              "    </tr>\n",
              "  </tbody>\n",
              "</table>\n",
              "</div>\n",
              "      <button class=\"colab-df-convert\" onclick=\"convertToInteractive('df-627e6667-781e-43d7-8659-75c0af726e87')\"\n",
              "              title=\"Convert this dataframe to an interactive table.\"\n",
              "              style=\"display:none;\">\n",
              "        \n",
              "  <svg xmlns=\"http://www.w3.org/2000/svg\" height=\"24px\"viewBox=\"0 0 24 24\"\n",
              "       width=\"24px\">\n",
              "    <path d=\"M0 0h24v24H0V0z\" fill=\"none\"/>\n",
              "    <path d=\"M18.56 5.44l.94 2.06.94-2.06 2.06-.94-2.06-.94-.94-2.06-.94 2.06-2.06.94zm-11 1L8.5 8.5l.94-2.06 2.06-.94-2.06-.94L8.5 2.5l-.94 2.06-2.06.94zm10 10l.94 2.06.94-2.06 2.06-.94-2.06-.94-.94-2.06-.94 2.06-2.06.94z\"/><path d=\"M17.41 7.96l-1.37-1.37c-.4-.4-.92-.59-1.43-.59-.52 0-1.04.2-1.43.59L10.3 9.45l-7.72 7.72c-.78.78-.78 2.05 0 2.83L4 21.41c.39.39.9.59 1.41.59.51 0 1.02-.2 1.41-.59l7.78-7.78 2.81-2.81c.8-.78.8-2.07 0-2.86zM5.41 20L4 18.59l7.72-7.72 1.47 1.35L5.41 20z\"/>\n",
              "  </svg>\n",
              "      </button>\n",
              "      \n",
              "  <style>\n",
              "    .colab-df-container {\n",
              "      display:flex;\n",
              "      flex-wrap:wrap;\n",
              "      gap: 12px;\n",
              "    }\n",
              "\n",
              "    .colab-df-convert {\n",
              "      background-color: #E8F0FE;\n",
              "      border: none;\n",
              "      border-radius: 50%;\n",
              "      cursor: pointer;\n",
              "      display: none;\n",
              "      fill: #1967D2;\n",
              "      height: 32px;\n",
              "      padding: 0 0 0 0;\n",
              "      width: 32px;\n",
              "    }\n",
              "\n",
              "    .colab-df-convert:hover {\n",
              "      background-color: #E2EBFA;\n",
              "      box-shadow: 0px 1px 2px rgba(60, 64, 67, 0.3), 0px 1px 3px 1px rgba(60, 64, 67, 0.15);\n",
              "      fill: #174EA6;\n",
              "    }\n",
              "\n",
              "    [theme=dark] .colab-df-convert {\n",
              "      background-color: #3B4455;\n",
              "      fill: #D2E3FC;\n",
              "    }\n",
              "\n",
              "    [theme=dark] .colab-df-convert:hover {\n",
              "      background-color: #434B5C;\n",
              "      box-shadow: 0px 1px 3px 1px rgba(0, 0, 0, 0.15);\n",
              "      filter: drop-shadow(0px 1px 2px rgba(0, 0, 0, 0.3));\n",
              "      fill: #FFFFFF;\n",
              "    }\n",
              "  </style>\n",
              "\n",
              "      <script>\n",
              "        const buttonEl =\n",
              "          document.querySelector('#df-627e6667-781e-43d7-8659-75c0af726e87 button.colab-df-convert');\n",
              "        buttonEl.style.display =\n",
              "          google.colab.kernel.accessAllowed ? 'block' : 'none';\n",
              "\n",
              "        async function convertToInteractive(key) {\n",
              "          const element = document.querySelector('#df-627e6667-781e-43d7-8659-75c0af726e87');\n",
              "          const dataTable =\n",
              "            await google.colab.kernel.invokeFunction('convertToInteractive',\n",
              "                                                     [key], {});\n",
              "          if (!dataTable) return;\n",
              "\n",
              "          const docLinkHtml = 'Like what you see? Visit the ' +\n",
              "            '<a target=\"_blank\" href=https://colab.research.google.com/notebooks/data_table.ipynb>data table notebook</a>'\n",
              "            + ' to learn more about interactive tables.';\n",
              "          element.innerHTML = '';\n",
              "          dataTable['output_type'] = 'display_data';\n",
              "          await google.colab.output.renderOutput(dataTable, element);\n",
              "          const docLink = document.createElement('div');\n",
              "          docLink.innerHTML = docLinkHtml;\n",
              "          element.appendChild(docLink);\n",
              "        }\n",
              "      </script>\n",
              "    </div>\n",
              "  </div>\n",
              "  "
            ]
          },
          "metadata": {},
          "execution_count": 227
        }
      ]
    },
    {
      "cell_type": "markdown",
      "source": [
        "We can see that we have majorty of features in object form and only one in numerical, which doesn't seem right. Let's explore further into these features."
      ],
      "metadata": {
        "id": "2_PLt6vtf8M3"
      }
    },
    {
      "cell_type": "code",
      "source": [
        "#Firstly let's check for the missing data\n",
        "def missing(df):\n",
        "  missing_data = 100* df.isnull().sum()/len(df)\n",
        "  return missing_data"
      ],
      "metadata": {
        "id": "UflaDhYHZJdb"
      },
      "execution_count": null,
      "outputs": []
    },
    {
      "cell_type": "code",
      "source": [
        "missing_data = missing(df)"
      ],
      "metadata": {
        "id": "Iu_ryNNZZdV7"
      },
      "execution_count": null,
      "outputs": []
    },
    {
      "cell_type": "code",
      "source": [
        "plt.figure(figsize=(12,8), dpi = 80)\n",
        "sns.barplot(x = missing_data.index, y = missing_data)\n",
        "plt.xticks(rotation = 50)\n",
        "plt.ylim(0,0.5)\n",
        "plt.title('Missing Data')\n",
        "plt.show()"
      ],
      "metadata": {
        "colab": {
          "base_uri": "https://localhost:8080/",
          "height": 611
        },
        "id": "Pr4232Ite3iU",
        "outputId": "60759cd9-8bcb-4a96-e6e6-d0ebb6a8cb7d"
      },
      "execution_count": null,
      "outputs": [
        {
          "output_type": "display_data",
          "data": {
            "text/plain": [
              "<Figure size 960x640 with 1 Axes>"
            ],
            "image/png": "[encoded data removed]"
          },
          "metadata": {
            "needs_background": "light"
          }
        }
      ]
    },
    {
      "cell_type": "code",
      "source": [
        "less_than_1_percent = ['Type', 'Content Rating', 'Current Ver', 'Android Ver']\n",
        "df = df.dropna(subset = less_than_1_percent)"
      ],
      "metadata": {
        "id": "T1ZIGlTdfRzG"
      },
      "execution_count": null,
      "outputs": []
    },
    {
      "cell_type": "code",
      "source": [
        "missing_data = missing(df)\n",
        "plt.figure(figsize=(12,8), dpi = 80)\n",
        "sns.barplot(x = missing_data.index, y = missing_data)\n",
        "plt.xticks(rotation = 50)\n",
        "plt.title('Missing Data')\n",
        "plt.show()"
      ],
      "metadata": {
        "colab": {
          "base_uri": "https://localhost:8080/",
          "height": 611
        },
        "id": "S6pFftEcgVMS",
        "outputId": "858fa4b7-209d-432e-aa9c-6e1f814af595"
      },
      "execution_count": null,
      "outputs": [
        {
          "output_type": "display_data",
          "data": {
            "text/plain": [
              "<Figure size 960x640 with 1 Axes>"
            ],
            "image/png": "[encoded data removed]"
          },
          "metadata": {
            "needs_background": "light"
          }
        }
      ]
    },
    {
      "cell_type": "code",
      "source": [
        "# now we only have ratings column to deal with having approx 13% of data missing\n",
        "df['Rating'].median()"
      ],
      "metadata": {
        "colab": {
          "base_uri": "https://localhost:8080/"
        },
        "id": "vSFe-fQLgYzO",
        "outputId": "8b8d9995-d634-4b35-f030-41f815b5d703"
      },
      "execution_count": null,
      "outputs": [
        {
          "output_type": "execute_result",
          "data": {
            "text/plain": [
              "4.3"
            ]
          },
          "metadata": {},
          "execution_count": 233
        }
      ]
    },
    {
      "cell_type": "code",
      "source": [
        "df.groupby('Category')['Rating'].median()"
      ],
      "metadata": {
        "colab": {
          "base_uri": "https://localhost:8080/"
        },
        "id": "Ndm2RhYbgvqr",
        "outputId": "019f157f-88dc-4582-966d-bbcee02738d4"
      },
      "execution_count": null,
      "outputs": [
        {
          "output_type": "execute_result",
          "data": {
            "text/plain": [
              "Category\n",
              "ART_AND_DESIGN         4.4\n",
              "AUTO_AND_VEHICLES      4.3\n",
              "BEAUTY                 4.3\n",
              "BOOKS_AND_REFERENCE    4.5\n",
              "BUSINESS               4.3\n",
              "COMICS                 4.4\n",
              "COMMUNICATION          4.3\n",
              "DATING                 4.1\n",
              "EDUCATION              4.4\n",
              "ENTERTAINMENT          4.2\n",
              "EVENTS                 4.5\n",
              "FAMILY                 4.3\n",
              "FINANCE                4.3\n",
              "FOOD_AND_DRINK         4.3\n",
              "GAME                   4.4\n",
              "HEALTH_AND_FITNESS     4.5\n",
              "HOUSE_AND_HOME         4.3\n",
              "LIBRARIES_AND_DEMO     4.2\n",
              "LIFESTYLE              4.2\n",
              "MAPS_AND_NAVIGATION    4.2\n",
              "MEDICAL                4.3\n",
              "NEWS_AND_MAGAZINES     4.2\n",
              "PARENTING              4.4\n",
              "PERSONALIZATION        4.4\n",
              "PHOTOGRAPHY            4.3\n",
              "PRODUCTIVITY           4.3\n",
              "SHOPPING               4.3\n",
              "SOCIAL                 4.3\n",
              "SPORTS                 4.3\n",
              "TOOLS                  4.2\n",
              "TRAVEL_AND_LOCAL       4.3\n",
              "VIDEO_PLAYERS          4.2\n",
              "WEATHER                4.3\n",
              "Name: Rating, dtype: float64"
            ]
          },
          "metadata": {},
          "execution_count": 234
        }
      ]
    },
    {
      "cell_type": "code",
      "source": [
        "# checking for an outlier in our data\n",
        "plt.title('Outliers')\n",
        "df.boxplot()\n",
        "plt.show()"
      ],
      "metadata": {
        "colab": {
          "base_uri": "https://localhost:8080/",
          "height": 281
        },
        "id": "6gn6GWS0g1Ze",
        "outputId": "f3a947e4-2446-49e4-f4f6-f1850175fa0b"
      },
      "execution_count": null,
      "outputs": [
        {
          "output_type": "display_data",
          "data": {
            "text/plain": [
              "<Figure size 432x288 with 1 Axes>"
            ],
            "image/png": "[encoded data removed]"
          },
          "metadata": {
            "needs_background": "light"
          }
        }
      ]
    },
    {
      "cell_type": "code",
      "source": [
        "df['Rating'] = df.groupby('Category')['Rating'].transform(lambda value: value.fillna(value.median()))"
      ],
      "metadata": {
        "id": "ctQRNVE_r4oS"
      },
      "execution_count": null,
      "outputs": []
    },
    {
      "cell_type": "code",
      "source": [
        "missing_data = missing(df)\n",
        "missing_data"
      ],
      "metadata": {
        "colab": {
          "base_uri": "https://localhost:8080/"
        },
        "id": "DS-pVstzmpew",
        "outputId": "0d653627-2040-4fc1-c842-3046dfe62095"
      },
      "execution_count": null,
      "outputs": [
        {
          "output_type": "execute_result",
          "data": {
            "text/plain": [
              "App               0.0\n",
              "Category          0.0\n",
              "Rating            0.0\n",
              "Reviews           0.0\n",
              "Size              0.0\n",
              "Installs          0.0\n",
              "Type              0.0\n",
              "Price             0.0\n",
              "Content Rating    0.0\n",
              "Genres            0.0\n",
              "Last Updated      0.0\n",
              "Current Ver       0.0\n",
              "Android Ver       0.0\n",
              "dtype: float64"
            ]
          },
          "metadata": {},
          "execution_count": 237
        }
      ]
    },
    {
      "cell_type": "markdown",
      "source": [
        "Now, let's move towards the columns which should be in Integer but saved in object form like Reviews, Size, Installs, Price."
      ],
      "metadata": {
        "id": "FFlGQyaYZXhT"
      }
    },
    {
      "cell_type": "code",
      "source": [
        "df.head()"
      ],
      "metadata": {
        "colab": {
          "base_uri": "https://localhost:8080/",
          "height": 206
        },
        "id": "kNm9Fkh3hErW",
        "outputId": "38d4ae1a-65d9-48d1-af1a-2da6fd82c66c"
      },
      "execution_count": null,
      "outputs": [
        {
          "output_type": "execute_result",
          "data": {
            "text/plain": [
              "                                                 App        Category  Rating  \\\n",
              "0     Photo Editor & Candy Camera & Grid & ScrapBook  ART_AND_DESIGN     4.1   \n",
              "1                                Coloring book moana  ART_AND_DESIGN     3.9   \n",
              "2  U Launcher Lite – FREE Live Cool Themes, Hide ...  ART_AND_DESIGN     4.7   \n",
              "3                              Sketch - Draw & Paint  ART_AND_DESIGN     4.5   \n",
              "4              Pixel Draw - Number Art Coloring Book  ART_AND_DESIGN     4.3   \n",
              "\n",
              "  Reviews  Size     Installs  Type Price Content Rating  \\\n",
              "0     159   19M      10,000+  Free     0       Everyone   \n",
              "1     967   14M     500,000+  Free     0       Everyone   \n",
              "2   87510  8.7M   5,000,000+  Free     0       Everyone   \n",
              "3  215644   25M  50,000,000+  Free     0           Teen   \n",
              "4     967  2.8M     100,000+  Free     0       Everyone   \n",
              "\n",
              "                      Genres      Last Updated         Current Ver  \\\n",
              "0               Art & Design   January 7, 2018               1.0.0   \n",
              "1  Art & Design;Pretend Play  January 15, 2018               2.0.0   \n",
              "2               Art & Design    August 1, 2018               1.2.4   \n",
              "3               Art & Design      June 8, 2018  Varies with device   \n",
              "4    Art & Design;Creativity     June 20, 2018                 1.1   \n",
              "\n",
              "    Android Ver  \n",
              "0  4.0.3 and up  \n",
              "1  4.0.3 and up  \n",
              "2  4.0.3 and up  \n",
              "3    4.2 and up  \n",
              "4    4.4 and up  "
            ],
            "text/html": [
              "\n",
              "  <div id=\"df-c2ad9d70-09f3-4d4a-97ea-683bbfaa5703\">\n",
              "    <div class=\"colab-df-container\">\n",
              "      <div>\n",
              "<style scoped>\n",
              "    .dataframe tbody tr th:only-of-type {\n",
              "        vertical-align: middle;\n",
              "    }\n",
              "\n",
              "    .dataframe tbody tr th {\n",
              "        vertical-align: top;\n",
              "    }\n",
              "\n",
              "    .dataframe thead th {\n",
              "        text-align: right;\n",
              "    }\n",
              "</style>\n",
              "<table border=\"1\" class=\"dataframe\">\n",
              "  <thead>\n",
              "    <tr style=\"text-align: right;\">\n",
              "      <th></th>\n",
              "      <th>App</th>\n",
              "      <th>Category</th>\n",
              "      <th>Rating</th>\n",
              "      <th>Reviews</th>\n",
              "      <th>Size</th>\n",
              "      <th>Installs</th>\n",
              "      <th>Type</th>\n",
              "      <th>Price</th>\n",
              "      <th>Content Rating</th>\n",
              "      <th>Genres</th>\n",
              "      <th>Last Updated</th>\n",
              "      <th>Current Ver</th>\n",
              "      <th>Android Ver</th>\n",
              "    </tr>\n",
              "  </thead>\n",
              "  <tbody>\n",
              "    <tr>\n",
              "      <th>0</th>\n",
              "      <td>Photo Editor &amp; Candy Camera &amp; Grid &amp; ScrapBook</td>\n",
              "      <td>ART_AND_DESIGN</td>\n",
              "      <td>4.1</td>\n",
              "      <td>159</td>\n",
              "      <td>19M</td>\n",
              "      <td>10,000+</td>\n",
              "      <td>Free</td>\n",
              "      <td>0</td>\n",
              "      <td>Everyone</td>\n",
              "      <td>Art &amp; Design</td>\n",
              "      <td>January 7, 2018</td>\n",
              "      <td>1.0.0</td>\n",
              "      <td>4.0.3 and up</td>\n",
              "    </tr>\n",
              "    <tr>\n",
              "      <th>1</th>\n",
              "      <td>Coloring book moana</td>\n",
              "      <td>ART_AND_DESIGN</td>\n",
              "      <td>3.9</td>\n",
              "      <td>967</td>\n",
              "      <td>14M</td>\n",
              "      <td>500,000+</td>\n",
              "      <td>Free</td>\n",
              "      <td>0</td>\n",
              "      <td>Everyone</td>\n",
              "      <td>Art &amp; Design;Pretend Play</td>\n",
              "      <td>January 15, 2018</td>\n",
              "      <td>2.0.0</td>\n",
              "      <td>4.0.3 and up</td>\n",
              "    </tr>\n",
              "    <tr>\n",
              "      <th>2</th>\n",
              "      <td>U Launcher Lite – FREE Live Cool Themes, Hide ...</td>\n",
              "      <td>ART_AND_DESIGN</td>\n",
              "      <td>4.7</td>\n",
              "      <td>87510</td>\n",
              "      <td>8.7M</td>\n",
              "      <td>5,000,000+</td>\n",
              "      <td>Free</td>\n",
              "      <td>0</td>\n",
              "      <td>Everyone</td>\n",
              "      <td>Art &amp; Design</td>\n",
              "      <td>August 1, 2018</td>\n",
              "      <td>1.2.4</td>\n",
              "      <td>4.0.3 and up</td>\n",
              "    </tr>\n",
              "    <tr>\n",
              "      <th>3</th>\n",
              "      <td>Sketch - Draw &amp; Paint</td>\n",
              "      <td>ART_AND_DESIGN</td>\n",
              "      <td>4.5</td>\n",
              "      <td>215644</td>\n",
              "      <td>25M</td>\n",
              "      <td>50,000,000+</td>\n",
              "      <td>Free</td>\n",
              "      <td>0</td>\n",
              "      <td>Teen</td>\n",
              "      <td>Art &amp; Design</td>\n",
              "      <td>June 8, 2018</td>\n",
              "      <td>Varies with device</td>\n",
              "      <td>4.2 and up</td>\n",
              "    </tr>\n",
              "    <tr>\n",
              "      <th>4</th>\n",
              "      <td>Pixel Draw - Number Art Coloring Book</td>\n",
              "      <td>ART_AND_DESIGN</td>\n",
              "      <td>4.3</td>\n",
              "      <td>967</td>\n",
              "      <td>2.8M</td>\n",
              "      <td>100,000+</td>\n",
              "      <td>Free</td>\n",
              "      <td>0</td>\n",
              "      <td>Everyone</td>\n",
              "      <td>Art &amp; Design;Creativity</td>\n",
              "      <td>June 20, 2018</td>\n",
              "      <td>1.1</td>\n",
              "      <td>4.4 and up</td>\n",
              "    </tr>\n",
              "  </tbody>\n",
              "</table>\n",
              "</div>\n",
              "      <button class=\"colab-df-convert\" onclick=\"convertToInteractive('df-c2ad9d70-09f3-4d4a-97ea-683bbfaa5703')\"\n",
              "              title=\"Convert this dataframe to an interactive table.\"\n",
              "              style=\"display:none;\">\n",
              "        \n",
              "  <svg xmlns=\"http://www.w3.org/2000/svg\" height=\"24px\"viewBox=\"0 0 24 24\"\n",
              "       width=\"24px\">\n",
              "    <path d=\"M0 0h24v24H0V0z\" fill=\"none\"/>\n",
              "    <path d=\"M18.56 5.44l.94 2.06.94-2.06 2.06-.94-2.06-.94-.94-2.06-.94 2.06-2.06.94zm-11 1L8.5 8.5l.94-2.06 2.06-.94-2.06-.94L8.5 2.5l-.94 2.06-2.06.94zm10 10l.94 2.06.94-2.06 2.06-.94-2.06-.94-.94-2.06-.94 2.06-2.06.94z\"/><path d=\"M17.41 7.96l-1.37-1.37c-.4-.4-.92-.59-1.43-.59-.52 0-1.04.2-1.43.59L10.3 9.45l-7.72 7.72c-.78.78-.78 2.05 0 2.83L4 21.41c.39.39.9.59 1.41.59.51 0 1.02-.2 1.41-.59l7.78-7.78 2.81-2.81c.8-.78.8-2.07 0-2.86zM5.41 20L4 18.59l7.72-7.72 1.47 1.35L5.41 20z\"/>\n",
              "  </svg>\n",
              "      </button>\n",
              "      \n",
              "  <style>\n",
              "    .colab-df-container {\n",
              "      display:flex;\n",
              "      flex-wrap:wrap;\n",
              "      gap: 12px;\n",
              "    }\n",
              "\n",
              "    .colab-df-convert {\n",
              "      background-color: #E8F0FE;\n",
              "      border: none;\n",
              "      border-radius: 50%;\n",
              "      cursor: pointer;\n",
              "      display: none;\n",
              "      fill: #1967D2;\n",
              "      height: 32px;\n",
              "      padding: 0 0 0 0;\n",
              "      width: 32px;\n",
              "    }\n",
              "\n",
              "    .colab-df-convert:hover {\n",
              "      background-color: #E2EBFA;\n",
              "      box-shadow: 0px 1px 2px rgba(60, 64, 67, 0.3), 0px 1px 3px 1px rgba(60, 64, 67, 0.15);\n",
              "      fill: #174EA6;\n",
              "    }\n",
              "\n",
              "    [theme=dark] .colab-df-convert {\n",
              "      background-color: #3B4455;\n",
              "      fill: #D2E3FC;\n",
              "    }\n",
              "\n",
              "    [theme=dark] .colab-df-convert:hover {\n",
              "      background-color: #434B5C;\n",
              "      box-shadow: 0px 1px 3px 1px rgba(0, 0, 0, 0.15);\n",
              "      filter: drop-shadow(0px 1px 2px rgba(0, 0, 0, 0.3));\n",
              "      fill: #FFFFFF;\n",
              "    }\n",
              "  </style>\n",
              "\n",
              "      <script>\n",
              "        const buttonEl =\n",
              "          document.querySelector('#df-c2ad9d70-09f3-4d4a-97ea-683bbfaa5703 button.colab-df-convert');\n",
              "        buttonEl.style.display =\n",
              "          google.colab.kernel.accessAllowed ? 'block' : 'none';\n",
              "\n",
              "        async function convertToInteractive(key) {\n",
              "          const element = document.querySelector('#df-c2ad9d70-09f3-4d4a-97ea-683bbfaa5703');\n",
              "          const dataTable =\n",
              "            await google.colab.kernel.invokeFunction('convertToInteractive',\n",
              "                                                     [key], {});\n",
              "          if (!dataTable) return;\n",
              "\n",
              "          const docLinkHtml = 'Like what you see? Visit the ' +\n",
              "            '<a target=\"_blank\" href=https://colab.research.google.com/notebooks/data_table.ipynb>data table notebook</a>'\n",
              "            + ' to learn more about interactive tables.';\n",
              "          element.innerHTML = '';\n",
              "          dataTable['output_type'] = 'display_data';\n",
              "          await google.colab.output.renderOutput(dataTable, element);\n",
              "          const docLink = document.createElement('div');\n",
              "          docLink.innerHTML = docLinkHtml;\n",
              "          element.appendChild(docLink);\n",
              "        }\n",
              "      </script>\n",
              "    </div>\n",
              "  </div>\n",
              "  "
            ]
          },
          "metadata": {},
          "execution_count": 238
        }
      ]
    },
    {
      "cell_type": "code",
      "source": [
        "df['Reviews'] = df['Reviews'].astype('int')"
      ],
      "metadata": {
        "id": "UgCaA_iRhzpK"
      },
      "execution_count": null,
      "outputs": []
    },
    {
      "cell_type": "code",
      "source": [
        "df['Price'].unique()"
      ],
      "metadata": {
        "colab": {
          "base_uri": "https://localhost:8080/"
        },
        "id": "FSH24DMXcgQr",
        "outputId": "1c4fc771-2b99-42dc-d96d-fd33753ee5cb"
      },
      "execution_count": null,
      "outputs": [
        {
          "output_type": "execute_result",
          "data": {
            "text/plain": [
              "array(['0', '$4.99', '$3.99', '$6.99', '$1.49', '$2.99', '$7.99', '$5.99',\n",
              "       '$3.49', '$1.99', '$9.99', '$7.49', '$0.99', '$9.00', '$5.49',\n",
              "       '$10.00', '$24.99', '$11.99', '$79.99', '$16.99', '$14.99',\n",
              "       '$1.00', '$29.99', '$12.99', '$2.49', '$10.99', '$1.50', '$19.99',\n",
              "       '$15.99', '$33.99', '$74.99', '$39.99', '$3.95', '$4.49', '$1.70',\n",
              "       '$8.99', '$2.00', '$3.88', '$25.99', '$399.99', '$17.99',\n",
              "       '$400.00', '$3.02', '$1.76', '$4.84', '$4.77', '$1.61', '$2.50',\n",
              "       '$1.59', '$6.49', '$1.29', '$5.00', '$13.99', '$299.99', '$379.99',\n",
              "       '$37.99', '$18.99', '$389.99', '$19.90', '$8.49', '$1.75',\n",
              "       '$14.00', '$4.85', '$46.99', '$109.99', '$154.99', '$3.08',\n",
              "       '$2.59', '$4.80', '$1.96', '$19.40', '$3.90', '$4.59', '$15.46',\n",
              "       '$3.04', '$4.29', '$2.60', '$3.28', '$4.60', '$28.99', '$2.95',\n",
              "       '$2.90', '$1.97', '$200.00', '$89.99', '$2.56', '$30.99', '$3.61',\n",
              "       '$394.99', '$1.26', '$1.20', '$1.04'], dtype=object)"
            ]
          },
          "metadata": {},
          "execution_count": 240
        }
      ]
    },
    {
      "cell_type": "code",
      "source": [
        "df['Price'] = df['Price'].apply(lambda x : x.replace('$',''))"
      ],
      "metadata": {
        "id": "fmUifD6rsO6_"
      },
      "execution_count": null,
      "outputs": []
    },
    {
      "cell_type": "code",
      "source": [
        "df['Price'].unique()"
      ],
      "metadata": {
        "colab": {
          "base_uri": "https://localhost:8080/"
        },
        "id": "sYKIcnghh5mi",
        "outputId": "de5d73c8-5ce6-4b35-a9a2-2b8d75a7ff41"
      },
      "execution_count": null,
      "outputs": [
        {
          "output_type": "execute_result",
          "data": {
            "text/plain": [
              "array(['0', '4.99', '3.99', '6.99', '1.49', '2.99', '7.99', '5.99',\n",
              "       '3.49', '1.99', '9.99', '7.49', '0.99', '9.00', '5.49', '10.00',\n",
              "       '24.99', '11.99', '79.99', '16.99', '14.99', '1.00', '29.99',\n",
              "       '12.99', '2.49', '10.99', '1.50', '19.99', '15.99', '33.99',\n",
              "       '74.99', '39.99', '3.95', '4.49', '1.70', '8.99', '2.00', '3.88',\n",
              "       '25.99', '399.99', '17.99', '400.00', '3.02', '1.76', '4.84',\n",
              "       '4.77', '1.61', '2.50', '1.59', '6.49', '1.29', '5.00', '13.99',\n",
              "       '299.99', '379.99', '37.99', '18.99', '389.99', '19.90', '8.49',\n",
              "       '1.75', '14.00', '4.85', '46.99', '109.99', '154.99', '3.08',\n",
              "       '2.59', '4.80', '1.96', '19.40', '3.90', '4.59', '15.46', '3.04',\n",
              "       '4.29', '2.60', '3.28', '4.60', '28.99', '2.95', '2.90', '1.97',\n",
              "       '200.00', '89.99', '2.56', '30.99', '3.61', '394.99', '1.26',\n",
              "       '1.20', '1.04'], dtype=object)"
            ]
          },
          "metadata": {},
          "execution_count": 242
        }
      ]
    },
    {
      "cell_type": "code",
      "source": [
        "df['Price'] = df['Price'].astype('float')"
      ],
      "metadata": {
        "id": "9z4NBLgFiYnD"
      },
      "execution_count": null,
      "outputs": []
    },
    {
      "cell_type": "code",
      "source": [
        "df['Installs'].unique()"
      ],
      "metadata": {
        "colab": {
          "base_uri": "https://localhost:8080/"
        },
        "id": "zVy9K_c5dZkm",
        "outputId": "3a29704a-7624-49b7-e67a-95157737c400"
      },
      "execution_count": null,
      "outputs": [
        {
          "output_type": "execute_result",
          "data": {
            "text/plain": [
              "array(['10,000+', '500,000+', '5,000,000+', '50,000,000+', '100,000+',\n",
              "       '50,000+', '1,000,000+', '10,000,000+', '5,000+', '100,000,000+',\n",
              "       '1,000,000,000+', '1,000+', '500,000,000+', '50+', '100+', '500+',\n",
              "       '10+', '1+', '5+', '0+'], dtype=object)"
            ]
          },
          "metadata": {},
          "execution_count": 244
        }
      ]
    },
    {
      "cell_type": "code",
      "source": [
        "df['Installs'] = df['Installs'].apply(lambda x : x.replace(',',''))\n",
        "df['Installs'] = df['Installs'].apply(lambda x : x.replace('+',''))"
      ],
      "metadata": {
        "id": "mmrA0Hr9enM7"
      },
      "execution_count": null,
      "outputs": []
    },
    {
      "cell_type": "code",
      "source": [
        "df['Installs'] = df['Installs'].astype('int')"
      ],
      "metadata": {
        "id": "z6Gc1hMwpmXB"
      },
      "execution_count": null,
      "outputs": []
    },
    {
      "cell_type": "code",
      "source": [
        "df['Size'].unique()"
      ],
      "metadata": {
        "colab": {
          "base_uri": "https://localhost:8080/"
        },
        "id": "TDKZuIyTqWYU",
        "outputId": "ab0a1a71-9c2e-4e1e-f993-89cc4ce5fe0a"
      },
      "execution_count": null,
      "outputs": [
        {
          "output_type": "execute_result",
          "data": {
            "text/plain": [
              "array(['19M', '14M', '8.7M', '25M', '2.8M', '5.6M', '29M', '33M', '3.1M',\n",
              "       '28M', '12M', '20M', '21M', '37M', '5.5M', '17M', '39M', '31M',\n",
              "       '4.2M', '7.0M', '23M', '6.0M', '6.1M', '4.6M', '9.2M', '5.2M',\n",
              "       '11M', '24M', 'Varies with device', '9.4M', '15M', '10M', '1.2M',\n",
              "       '26M', '8.0M', '7.9M', '56M', '57M', '35M', '54M', '201k', '3.6M',\n",
              "       '5.7M', '8.6M', '2.4M', '27M', '2.7M', '2.5M', '16M', '3.4M',\n",
              "       '8.9M', '3.9M', '2.9M', '38M', '32M', '5.4M', '18M', '1.1M',\n",
              "       '2.2M', '4.5M', '9.8M', '52M', '9.0M', '6.7M', '30M', '2.6M',\n",
              "       '7.1M', '3.7M', '22M', '7.4M', '6.4M', '3.2M', '8.2M', '9.9M',\n",
              "       '4.9M', '9.5M', '5.0M', '5.9M', '13M', '73M', '6.8M', '3.5M',\n",
              "       '4.0M', '2.3M', '7.2M', '2.1M', '42M', '7.3M', '9.1M', '55M',\n",
              "       '23k', '6.5M', '1.5M', '7.5M', '51M', '41M', '48M', '8.5M', '46M',\n",
              "       '8.3M', '4.3M', '4.7M', '3.3M', '40M', '7.8M', '8.8M', '6.6M',\n",
              "       '5.1M', '61M', '66M', '79k', '8.4M', '118k', '44M', '695k', '1.6M',\n",
              "       '6.2M', '18k', '53M', '1.4M', '3.0M', '5.8M', '3.8M', '9.6M',\n",
              "       '45M', '63M', '49M', '77M', '4.4M', '4.8M', '70M', '6.9M', '9.3M',\n",
              "       '10.0M', '8.1M', '36M', '84M', '97M', '2.0M', '1.9M', '1.8M',\n",
              "       '5.3M', '47M', '556k', '526k', '76M', '7.6M', '59M', '9.7M', '78M',\n",
              "       '72M', '43M', '7.7M', '6.3M', '334k', '34M', '93M', '65M', '79M',\n",
              "       '100M', '58M', '50M', '68M', '64M', '67M', '60M', '94M', '232k',\n",
              "       '99M', '624k', '95M', '8.5k', '41k', '292k', '80M', '1.7M', '74M',\n",
              "       '62M', '69M', '75M', '98M', '85M', '82M', '96M', '87M', '71M',\n",
              "       '86M', '91M', '81M', '92M', '83M', '88M', '704k', '862k', '899k',\n",
              "       '378k', '266k', '375k', '1.3M', '975k', '980k', '4.1M', '89M',\n",
              "       '696k', '544k', '525k', '920k', '779k', '853k', '720k', '713k',\n",
              "       '772k', '318k', '58k', '241k', '196k', '857k', '51k', '953k',\n",
              "       '865k', '251k', '930k', '540k', '313k', '746k', '203k', '26k',\n",
              "       '314k', '239k', '371k', '220k', '730k', '756k', '91k', '293k',\n",
              "       '17k', '74k', '14k', '317k', '78k', '924k', '902k', '818k', '81k',\n",
              "       '939k', '169k', '45k', '475k', '965k', '90M', '545k', '61k',\n",
              "       '283k', '655k', '714k', '93k', '872k', '121k', '322k', '1.0M',\n",
              "       '976k', '172k', '238k', '549k', '206k', '954k', '444k', '717k',\n",
              "       '210k', '609k', '308k', '705k', '306k', '904k', '473k', '175k',\n",
              "       '350k', '383k', '454k', '421k', '70k', '812k', '442k', '842k',\n",
              "       '417k', '412k', '459k', '478k', '335k', '782k', '721k', '430k',\n",
              "       '429k', '192k', '200k', '460k', '728k', '496k', '816k', '414k',\n",
              "       '506k', '887k', '613k', '243k', '569k', '778k', '683k', '592k',\n",
              "       '319k', '186k', '840k', '647k', '191k', '373k', '437k', '598k',\n",
              "       '716k', '585k', '982k', '219k', '55k', '948k', '323k', '691k',\n",
              "       '511k', '951k', '963k', '25k', '554k', '351k', '27k', '82k',\n",
              "       '208k', '913k', '514k', '551k', '29k', '103k', '898k', '743k',\n",
              "       '116k', '153k', '209k', '353k', '499k', '173k', '597k', '809k',\n",
              "       '122k', '411k', '400k', '801k', '787k', '50k', '643k', '986k',\n",
              "       '97k', '516k', '837k', '780k', '961k', '269k', '20k', '498k',\n",
              "       '600k', '749k', '642k', '881k', '72k', '656k', '601k', '221k',\n",
              "       '228k', '108k', '940k', '176k', '33k', '663k', '34k', '942k',\n",
              "       '259k', '164k', '458k', '245k', '629k', '28k', '288k', '775k',\n",
              "       '785k', '636k', '916k', '994k', '309k', '485k', '914k', '903k',\n",
              "       '608k', '500k', '54k', '562k', '847k', '957k', '688k', '811k',\n",
              "       '270k', '48k', '329k', '523k', '921k', '874k', '981k', '784k',\n",
              "       '280k', '24k', '518k', '754k', '892k', '154k', '860k', '364k',\n",
              "       '387k', '626k', '161k', '879k', '39k', '970k', '170k', '141k',\n",
              "       '160k', '144k', '143k', '190k', '376k', '193k', '246k', '73k',\n",
              "       '992k', '253k', '420k', '404k', '470k', '226k', '240k', '89k',\n",
              "       '234k', '257k', '861k', '467k', '157k', '44k', '676k', '67k',\n",
              "       '552k', '885k', '1020k', '582k', '619k'], dtype=object)"
            ]
          },
          "metadata": {},
          "execution_count": 247
        }
      ]
    },
    {
      "cell_type": "code",
      "source": [
        "df[df['Size'] =='Varies with device']"
      ],
      "metadata": {
        "id": "CDW43l9rqiqR",
        "colab": {
          "base_uri": "https://localhost:8080/",
          "height": 424
        },
        "outputId": "b88b8e33-0848-4ebd-eede-5cc1986f6df5"
      },
      "execution_count": null,
      "outputs": [
        {
          "output_type": "execute_result",
          "data": {
            "text/plain": [
              "                                                     App             Category  \\\n",
              "37                                    Floor Plan Creator       ART_AND_DESIGN   \n",
              "42                            Textgram - write on photos       ART_AND_DESIGN   \n",
              "52                         Used Cars and Trucks for Sale    AUTO_AND_VEHICLES   \n",
              "67                                    Ulysse Speedometer    AUTO_AND_VEHICLES   \n",
              "68                                                REPUVE    AUTO_AND_VEHICLES   \n",
              "...                                                  ...                  ...   \n",
              "10713  My Earthquake Alerts - US & Worldwide Earthquakes              WEATHER   \n",
              "10725                                          Posta App  MAPS_AND_NAVIGATION   \n",
              "10765                    Chat For Strangers - Video Chat               SOCIAL   \n",
              "10826          Frim: get new friends on local chat rooms               SOCIAL   \n",
              "10839                      The SCP Foundation DB fr nn5n  BOOKS_AND_REFERENCE   \n",
              "\n",
              "       Rating  Reviews                Size  Installs  Type  Price  \\\n",
              "37        4.1    36639  Varies with device   5000000  Free    0.0   \n",
              "42        4.4   295221  Varies with device  10000000  Free    0.0   \n",
              "52        4.6    17057  Varies with device   1000000  Free    0.0   \n",
              "67        4.3    40211  Varies with device   5000000  Free    0.0   \n",
              "68        3.9      356  Varies with device    100000  Free    0.0   \n",
              "...       ...      ...                 ...       ...   ...    ...   \n",
              "10713     4.4     3471  Varies with device    100000  Free    0.0   \n",
              "10725     3.6        8  Varies with device      1000  Free    0.0   \n",
              "10765     3.4      622  Varies with device    100000  Free    0.0   \n",
              "10826     4.0    88486  Varies with device   5000000  Free    0.0   \n",
              "10839     4.5      114  Varies with device      1000  Free    0.0   \n",
              "\n",
              "      Content Rating             Genres        Last Updated  \\\n",
              "37          Everyone       Art & Design       July 14, 2018   \n",
              "42          Everyone       Art & Design       July 30, 2018   \n",
              "52          Everyone    Auto & Vehicles       July 30, 2018   \n",
              "67          Everyone    Auto & Vehicles       July 30, 2018   \n",
              "68          Everyone    Auto & Vehicles        May 25, 2018   \n",
              "...              ...                ...                 ...   \n",
              "10713       Everyone            Weather       July 24, 2018   \n",
              "10725       Everyone  Maps & Navigation  September 27, 2017   \n",
              "10765     Mature 17+             Social        May 23, 2018   \n",
              "10826     Mature 17+             Social      March 23, 2018   \n",
              "10839     Mature 17+  Books & Reference    January 19, 2015   \n",
              "\n",
              "              Current Ver         Android Ver  \n",
              "37     Varies with device        2.3.3 and up  \n",
              "42     Varies with device  Varies with device  \n",
              "52     Varies with device  Varies with device  \n",
              "67     Varies with device  Varies with device  \n",
              "68     Varies with device  Varies with device  \n",
              "...                   ...                 ...  \n",
              "10713  Varies with device  Varies with device  \n",
              "10725  Varies with device          4.4 and up  \n",
              "10765  Varies with device  Varies with device  \n",
              "10826  Varies with device  Varies with device  \n",
              "10839  Varies with device  Varies with device  \n",
              "\n",
              "[1694 rows x 13 columns]"
            ],
            "text/html": [
              "\n",
              "  <div id=\"df-00ac6723-e2ed-46f3-bd5e-65a7c8091db9\">\n",
              "    <div class=\"colab-df-container\">\n",
              "      <div>\n",
              "<style scoped>\n",
              "    .dataframe tbody tr th:only-of-type {\n",
              "        vertical-align: middle;\n",
              "    }\n",
              "\n",
              "    .dataframe tbody tr th {\n",
              "        vertical-align: top;\n",
              "    }\n",
              "\n",
              "    .dataframe thead th {\n",
              "        text-align: right;\n",
              "    }\n",
              "</style>\n",
              "<table border=\"1\" class=\"dataframe\">\n",
              "  <thead>\n",
              "    <tr style=\"text-align: right;\">\n",
              "      <th></th>\n",
              "      <th>App</th>\n",
              "      <th>Category</th>\n",
              "      <th>Rating</th>\n",
              "      <th>Reviews</th>\n",
              "      <th>Size</th>\n",
              "      <th>Installs</th>\n",
              "      <th>Type</th>\n",
              "      <th>Price</th>\n",
              "      <th>Content Rating</th>\n",
              "      <th>Genres</th>\n",
              "      <th>Last Updated</th>\n",
              "      <th>Current Ver</th>\n",
              "      <th>Android Ver</th>\n",
              "    </tr>\n",
              "  </thead>\n",
              "  <tbody>\n",
              "    <tr>\n",
              "      <th>37</th>\n",
              "      <td>Floor Plan Creator</td>\n",
              "      <td>ART_AND_DESIGN</td>\n",
              "      <td>4.1</td>\n",
              "      <td>36639</td>\n",
              "      <td>Varies with device</td>\n",
              "      <td>5000000</td>\n",
              "      <td>Free</td>\n",
              "      <td>0.0</td>\n",
              "      <td>Everyone</td>\n",
              "      <td>Art &amp; Design</td>\n",
              "      <td>July 14, 2018</td>\n",
              "      <td>Varies with device</td>\n",
              "      <td>2.3.3 and up</td>\n",
              "    </tr>\n",
              "    <tr>\n",
              "      <th>42</th>\n",
              "      <td>Textgram - write on photos</td>\n",
              "      <td>ART_AND_DESIGN</td>\n",
              "      <td>4.4</td>\n",
              "      <td>295221</td>\n",
              "      <td>Varies with device</td>\n",
              "      <td>10000000</td>\n",
              "      <td>Free</td>\n",
              "      <td>0.0</td>\n",
              "      <td>Everyone</td>\n",
              "      <td>Art &amp; Design</td>\n",
              "      <td>July 30, 2018</td>\n",
              "      <td>Varies with device</td>\n",
              "      <td>Varies with device</td>\n",
              "    </tr>\n",
              "    <tr>\n",
              "      <th>52</th>\n",
              "      <td>Used Cars and Trucks for Sale</td>\n",
              "      <td>AUTO_AND_VEHICLES</td>\n",
              "      <td>4.6</td>\n",
              "      <td>17057</td>\n",
              "      <td>Varies with device</td>\n",
              "      <td>1000000</td>\n",
              "      <td>Free</td>\n",
              "      <td>0.0</td>\n",
              "      <td>Everyone</td>\n",
              "      <td>Auto &amp; Vehicles</td>\n",
              "      <td>July 30, 2018</td>\n",
              "      <td>Varies with device</td>\n",
              "      <td>Varies with device</td>\n",
              "    </tr>\n",
              "    <tr>\n",
              "      <th>67</th>\n",
              "      <td>Ulysse Speedometer</td>\n",
              "      <td>AUTO_AND_VEHICLES</td>\n",
              "      <td>4.3</td>\n",
              "      <td>40211</td>\n",
              "      <td>Varies with device</td>\n",
              "      <td>5000000</td>\n",
              "      <td>Free</td>\n",
              "      <td>0.0</td>\n",
              "      <td>Everyone</td>\n",
              "      <td>Auto &amp; Vehicles</td>\n",
              "      <td>July 30, 2018</td>\n",
              "      <td>Varies with device</td>\n",
              "      <td>Varies with device</td>\n",
              "    </tr>\n",
              "    <tr>\n",
              "      <th>68</th>\n",
              "      <td>REPUVE</td>\n",
              "      <td>AUTO_AND_VEHICLES</td>\n",
              "      <td>3.9</td>\n",
              "      <td>356</td>\n",
              "      <td>Varies with device</td>\n",
              "      <td>100000</td>\n",
              "      <td>Free</td>\n",
              "      <td>0.0</td>\n",
              "      <td>Everyone</td>\n",
              "      <td>Auto &amp; Vehicles</td>\n",
              "      <td>May 25, 2018</td>\n",
              "      <td>Varies with device</td>\n",
              "      <td>Varies with device</td>\n",
              "    </tr>\n",
              "    <tr>\n",
              "      <th>...</th>\n",
              "      <td>...</td>\n",
              "      <td>...</td>\n",
              "      <td>...</td>\n",
              "      <td>...</td>\n",
              "      <td>...</td>\n",
              "      <td>...</td>\n",
              "      <td>...</td>\n",
              "      <td>...</td>\n",
              "      <td>...</td>\n",
              "      <td>...</td>\n",
              "      <td>...</td>\n",
              "      <td>...</td>\n",
              "      <td>...</td>\n",
              "    </tr>\n",
              "    <tr>\n",
              "      <th>10713</th>\n",
              "      <td>My Earthquake Alerts - US &amp; Worldwide Earthquakes</td>\n",
              "      <td>WEATHER</td>\n",
              "      <td>4.4</td>\n",
              "      <td>3471</td>\n",
              "      <td>Varies with device</td>\n",
              "      <td>100000</td>\n",
              "      <td>Free</td>\n",
              "      <td>0.0</td>\n",
              "      <td>Everyone</td>\n",
              "      <td>Weather</td>\n",
              "      <td>July 24, 2018</td>\n",
              "      <td>Varies with device</td>\n",
              "      <td>Varies with device</td>\n",
              "    </tr>\n",
              "    <tr>\n",
              "      <th>10725</th>\n",
              "      <td>Posta App</td>\n",
              "      <td>MAPS_AND_NAVIGATION</td>\n",
              "      <td>3.6</td>\n",
              "      <td>8</td>\n",
              "      <td>Varies with device</td>\n",
              "      <td>1000</td>\n",
              "      <td>Free</td>\n",
              "      <td>0.0</td>\n",
              "      <td>Everyone</td>\n",
              "      <td>Maps &amp; Navigation</td>\n",
              "      <td>September 27, 2017</td>\n",
              "      <td>Varies with device</td>\n",
              "      <td>4.4 and up</td>\n",
              "    </tr>\n",
              "    <tr>\n",
              "      <th>10765</th>\n",
              "      <td>Chat For Strangers - Video Chat</td>\n",
              "      <td>SOCIAL</td>\n",
              "      <td>3.4</td>\n",
              "      <td>622</td>\n",
              "      <td>Varies with device</td>\n",
              "      <td>100000</td>\n",
              "      <td>Free</td>\n",
              "      <td>0.0</td>\n",
              "      <td>Mature 17+</td>\n",
              "      <td>Social</td>\n",
              "      <td>May 23, 2018</td>\n",
              "      <td>Varies with device</td>\n",
              "      <td>Varies with device</td>\n",
              "    </tr>\n",
              "    <tr>\n",
              "      <th>10826</th>\n",
              "      <td>Frim: get new friends on local chat rooms</td>\n",
              "      <td>SOCIAL</td>\n",
              "      <td>4.0</td>\n",
              "      <td>88486</td>\n",
              "      <td>Varies with device</td>\n",
              "      <td>5000000</td>\n",
              "      <td>Free</td>\n",
              "      <td>0.0</td>\n",
              "      <td>Mature 17+</td>\n",
              "      <td>Social</td>\n",
              "      <td>March 23, 2018</td>\n",
              "      <td>Varies with device</td>\n",
              "      <td>Varies with device</td>\n",
              "    </tr>\n",
              "    <tr>\n",
              "      <th>10839</th>\n",
              "      <td>The SCP Foundation DB fr nn5n</td>\n",
              "      <td>BOOKS_AND_REFERENCE</td>\n",
              "      <td>4.5</td>\n",
              "      <td>114</td>\n",
              "      <td>Varies with device</td>\n",
              "      <td>1000</td>\n",
              "      <td>Free</td>\n",
              "      <td>0.0</td>\n",
              "      <td>Mature 17+</td>\n",
              "      <td>Books &amp; Reference</td>\n",
              "      <td>January 19, 2015</td>\n",
              "      <td>Varies with device</td>\n",
              "      <td>Varies with device</td>\n",
              "    </tr>\n",
              "  </tbody>\n",
              "</table>\n",
              "<p>1694 rows × 13 columns</p>\n",
              "</div>\n",
              "      <button class=\"colab-df-convert\" onclick=\"convertToInteractive('df-00ac6723-e2ed-46f3-bd5e-65a7c8091db9')\"\n",
              "              title=\"Convert this dataframe to an interactive table.\"\n",
              "              style=\"display:none;\">\n",
              "        \n",
              "  <svg xmlns=\"http://www.w3.org/2000/svg\" height=\"24px\"viewBox=\"0 0 24 24\"\n",
              "       width=\"24px\">\n",
              "    <path d=\"M0 0h24v24H0V0z\" fill=\"none\"/>\n",
              "    <path d=\"M18.56 5.44l.94 2.06.94-2.06 2.06-.94-2.06-.94-.94-2.06-.94 2.06-2.06.94zm-11 1L8.5 8.5l.94-2.06 2.06-.94-2.06-.94L8.5 2.5l-.94 2.06-2.06.94zm10 10l.94 2.06.94-2.06 2.06-.94-2.06-.94-.94-2.06-.94 2.06-2.06.94z\"/><path d=\"M17.41 7.96l-1.37-1.37c-.4-.4-.92-.59-1.43-.59-.52 0-1.04.2-1.43.59L10.3 9.45l-7.72 7.72c-.78.78-.78 2.05 0 2.83L4 21.41c.39.39.9.59 1.41.59.51 0 1.02-.2 1.41-.59l7.78-7.78 2.81-2.81c.8-.78.8-2.07 0-2.86zM5.41 20L4 18.59l7.72-7.72 1.47 1.35L5.41 20z\"/>\n",
              "  </svg>\n",
              "      </button>\n",
              "      \n",
              "  <style>\n",
              "    .colab-df-container {\n",
              "      display:flex;\n",
              "      flex-wrap:wrap;\n",
              "      gap: 12px;\n",
              "    }\n",
              "\n",
              "    .colab-df-convert {\n",
              "      background-color: #E8F0FE;\n",
              "      border: none;\n",
              "      border-radius: 50%;\n",
              "      cursor: pointer;\n",
              "      display: none;\n",
              "      fill: #1967D2;\n",
              "      height: 32px;\n",
              "      padding: 0 0 0 0;\n",
              "      width: 32px;\n",
              "    }\n",
              "\n",
              "    .colab-df-convert:hover {\n",
              "      background-color: #E2EBFA;\n",
              "      box-shadow: 0px 1px 2px rgba(60, 64, 67, 0.3), 0px 1px 3px 1px rgba(60, 64, 67, 0.15);\n",
              "      fill: #174EA6;\n",
              "    }\n",
              "\n",
              "    [theme=dark] .colab-df-convert {\n",
              "      background-color: #3B4455;\n",
              "      fill: #D2E3FC;\n",
              "    }\n",
              "\n",
              "    [theme=dark] .colab-df-convert:hover {\n",
              "      background-color: #434B5C;\n",
              "      box-shadow: 0px 1px 3px 1px rgba(0, 0, 0, 0.15);\n",
              "      filter: drop-shadow(0px 1px 2px rgba(0, 0, 0, 0.3));\n",
              "      fill: #FFFFFF;\n",
              "    }\n",
              "  </style>\n",
              "\n",
              "      <script>\n",
              "        const buttonEl =\n",
              "          document.querySelector('#df-00ac6723-e2ed-46f3-bd5e-65a7c8091db9 button.colab-df-convert');\n",
              "        buttonEl.style.display =\n",
              "          google.colab.kernel.accessAllowed ? 'block' : 'none';\n",
              "\n",
              "        async function convertToInteractive(key) {\n",
              "          const element = document.querySelector('#df-00ac6723-e2ed-46f3-bd5e-65a7c8091db9');\n",
              "          const dataTable =\n",
              "            await google.colab.kernel.invokeFunction('convertToInteractive',\n",
              "                                                     [key], {});\n",
              "          if (!dataTable) return;\n",
              "\n",
              "          const docLinkHtml = 'Like what you see? Visit the ' +\n",
              "            '<a target=\"_blank\" href=https://colab.research.google.com/notebooks/data_table.ipynb>data table notebook</a>'\n",
              "            + ' to learn more about interactive tables.';\n",
              "          element.innerHTML = '';\n",
              "          dataTable['output_type'] = 'display_data';\n",
              "          await google.colab.output.renderOutput(dataTable, element);\n",
              "          const docLink = document.createElement('div');\n",
              "          docLink.innerHTML = docLinkHtml;\n",
              "          element.appendChild(docLink);\n",
              "        }\n",
              "      </script>\n",
              "    </div>\n",
              "  </div>\n",
              "  "
            ]
          },
          "metadata": {},
          "execution_count": 248
        }
      ]
    },
    {
      "cell_type": "markdown",
      "source": [
        "#Looking at the dataset categorywise."
      ],
      "metadata": {
        "id": "aUkQfr8ZR3E1"
      }
    },
    {
      "cell_type": "code",
      "source": [
        "#creating an object for the dataset\n",
        "grp = df.groupby('Category')"
      ],
      "metadata": {
        "id": "L1NS5syTRqRP"
      },
      "execution_count": null,
      "outputs": []
    },
    {
      "cell_type": "code",
      "source": [
        "categories = sorted(df['Category'].unique())\n",
        "categories"
      ],
      "metadata": {
        "id": "nfXeAe_ZowGl",
        "colab": {
          "base_uri": "https://localhost:8080/"
        },
        "outputId": "095bec70-f2a0-4441-bfc5-7fff069fd74b"
      },
      "execution_count": null,
      "outputs": [
        {
          "output_type": "execute_result",
          "data": {
            "text/plain": [
              "['ART_AND_DESIGN',\n",
              " 'AUTO_AND_VEHICLES',\n",
              " 'BEAUTY',\n",
              " 'BOOKS_AND_REFERENCE',\n",
              " 'BUSINESS',\n",
              " 'COMICS',\n",
              " 'COMMUNICATION',\n",
              " 'DATING',\n",
              " 'EDUCATION',\n",
              " 'ENTERTAINMENT',\n",
              " 'EVENTS',\n",
              " 'FAMILY',\n",
              " 'FINANCE',\n",
              " 'FOOD_AND_DRINK',\n",
              " 'GAME',\n",
              " 'HEALTH_AND_FITNESS',\n",
              " 'HOUSE_AND_HOME',\n",
              " 'LIBRARIES_AND_DEMO',\n",
              " 'LIFESTYLE',\n",
              " 'MAPS_AND_NAVIGATION',\n",
              " 'MEDICAL',\n",
              " 'NEWS_AND_MAGAZINES',\n",
              " 'PARENTING',\n",
              " 'PERSONALIZATION',\n",
              " 'PHOTOGRAPHY',\n",
              " 'PRODUCTIVITY',\n",
              " 'SHOPPING',\n",
              " 'SOCIAL',\n",
              " 'SPORTS',\n",
              " 'TOOLS',\n",
              " 'TRAVEL_AND_LOCAL',\n",
              " 'VIDEO_PLAYERS',\n",
              " 'WEATHER']"
            ]
          },
          "metadata": {},
          "execution_count": 250
        }
      ]
    },
    {
      "cell_type": "code",
      "source": [
        "app = grp['App'].count()\n",
        "reviews = grp['Reviews'].sum()\n",
        "installs = grp['Installs'].sum()\n",
        "price = grp['Price'].sum()\n",
        "ratings = grp['Rating'].mean()"
      ],
      "metadata": {
        "id": "wiM_shUTSiCP"
      },
      "execution_count": null,
      "outputs": []
    },
    {
      "cell_type": "code",
      "source": [
        "# To check the apps distribution based on category\n",
        "plt.figure(figsize = (12,8), dpi = 80)\n",
        "sns.barplot(x = categories, y = app);\n",
        "plt.xticks(rotation = 90);\n",
        "plt.title('Category distribution', size = 14)\n",
        "plt.xlabel('Category')\n",
        "plt.ylabel('Numbe of apps')\n",
        "# Looks like Finance based apps are quite in demand"
      ],
      "metadata": {
        "colab": {
          "base_uri": "https://localhost:8080/",
          "height": 715
        },
        "id": "CI2b6Htilfv8",
        "outputId": "59e58c69-7fbf-4d3c-bdcd-3c50808d5baa"
      },
      "execution_count": null,
      "outputs": [
        {
          "output_type": "execute_result",
          "data": {
            "text/plain": [
              "Text(0, 0.5, 'Numbe of apps')"
            ]
          },
          "metadata": {},
          "execution_count": 252
        },
        {
          "output_type": "display_data",
          "data": {
            "text/plain": [
              "<Figure size 960x640 with 1 Axes>"
            ],
            "image/png": "[encoded data removed]"
          },
          "metadata": {
            "needs_background": "light"
          }
        }
      ]
    },
    {
      "cell_type": "code",
      "source": [
        "# Let's find out about the FAMILY category in details\n",
        "df_family = df[df['Category']=='FAMILY']"
      ],
      "metadata": {
        "id": "UhHOJDFrxu-Y"
      },
      "execution_count": null,
      "outputs": []
    },
    {
      "cell_type": "code",
      "source": [
        "df_family.head()"
      ],
      "metadata": {
        "colab": {
          "base_uri": "https://localhost:8080/",
          "height": 206
        },
        "id": "0QxOd4CgoSzx",
        "outputId": "3d218644-6a4d-4c72-801b-adfcd58a6b5e"
      },
      "execution_count": null,
      "outputs": [
        {
          "output_type": "execute_result",
          "data": {
            "text/plain": [
              "                               App Category  Rating  Reviews  \\\n",
              "2014                  YouTube Kids   FAMILY     4.5   470694   \n",
              "2015                    Candy Bomb   FAMILY     4.4    42145   \n",
              "2016                        ROBLOX   FAMILY     4.5  4449910   \n",
              "2017  Jewels Crush- Match 3 Puzzle   FAMILY     4.4    14774   \n",
              "2018              Coloring & Learn   FAMILY     4.4    12753   \n",
              "\n",
              "                    Size   Installs  Type  Price Content Rating  \\\n",
              "2014  Varies with device   50000000  Free    0.0       Everyone   \n",
              "2015                 20M   10000000  Free    0.0       Everyone   \n",
              "2016                 67M  100000000  Free    0.0   Everyone 10+   \n",
              "2017                 19M    1000000  Free    0.0       Everyone   \n",
              "2018                 51M    5000000  Free    0.0       Everyone   \n",
              "\n",
              "                            Genres    Last Updated   Current Ver   Android Ver  \n",
              "2014   Entertainment;Music & Video  August 3, 2018        3.43.3    4.1 and up  \n",
              "2015            Casual;Brain Games    July 4, 2018      2.9.3181  4.0.3 and up  \n",
              "2016  Adventure;Action & Adventure   July 31, 2018  2.347.225742    4.1 and up  \n",
              "2017            Casual;Brain Games   July 23, 2018      1.9.3901  4.0.3 and up  \n",
              "2018        Educational;Creativity   July 17, 2018          1.49  4.0.3 and up  "
            ],
            "text/html": [
              "\n",
              "  <div id=\"df-03418efb-69ce-4100-93b5-80341eb3dbd8\">\n",
              "    <div class=\"colab-df-container\">\n",
              "      <div>\n",
              "<style scoped>\n",
              "    .dataframe tbody tr th:only-of-type {\n",
              "        vertical-align: middle;\n",
              "    }\n",
              "\n",
              "    .dataframe tbody tr th {\n",
              "        vertical-align: top;\n",
              "    }\n",
              "\n",
              "    .dataframe thead th {\n",
              "        text-align: right;\n",
              "    }\n",
              "</style>\n",
              "<table border=\"1\" class=\"dataframe\">\n",
              "  <thead>\n",
              "    <tr style=\"text-align: right;\">\n",
              "      <th></th>\n",
              "      <th>App</th>\n",
              "      <th>Category</th>\n",
              "      <th>Rating</th>\n",
              "      <th>Reviews</th>\n",
              "      <th>Size</th>\n",
              "      <th>Installs</th>\n",
              "      <th>Type</th>\n",
              "      <th>Price</th>\n",
              "      <th>Content Rating</th>\n",
              "      <th>Genres</th>\n",
              "      <th>Last Updated</th>\n",
              "      <th>Current Ver</th>\n",
              "      <th>Android Ver</th>\n",
              "    </tr>\n",
              "  </thead>\n",
              "  <tbody>\n",
              "    <tr>\n",
              "      <th>2014</th>\n",
              "      <td>YouTube Kids</td>\n",
              "      <td>FAMILY</td>\n",
              "      <td>4.5</td>\n",
              "      <td>470694</td>\n",
              "      <td>Varies with device</td>\n",
              "      <td>50000000</td>\n",
              "      <td>Free</td>\n",
              "      <td>0.0</td>\n",
              "      <td>Everyone</td>\n",
              "      <td>Entertainment;Music &amp; Video</td>\n",
              "      <td>August 3, 2018</td>\n",
              "      <td>3.43.3</td>\n",
              "      <td>4.1 and up</td>\n",
              "    </tr>\n",
              "    <tr>\n",
              "      <th>2015</th>\n",
              "      <td>Candy Bomb</td>\n",
              "      <td>FAMILY</td>\n",
              "      <td>4.4</td>\n",
              "      <td>42145</td>\n",
              "      <td>20M</td>\n",
              "      <td>10000000</td>\n",
              "      <td>Free</td>\n",
              "      <td>0.0</td>\n",
              "      <td>Everyone</td>\n",
              "      <td>Casual;Brain Games</td>\n",
              "      <td>July 4, 2018</td>\n",
              "      <td>2.9.3181</td>\n",
              "      <td>4.0.3 and up</td>\n",
              "    </tr>\n",
              "    <tr>\n",
              "      <th>2016</th>\n",
              "      <td>ROBLOX</td>\n",
              "      <td>FAMILY</td>\n",
              "      <td>4.5</td>\n",
              "      <td>4449910</td>\n",
              "      <td>67M</td>\n",
              "      <td>100000000</td>\n",
              "      <td>Free</td>\n",
              "      <td>0.0</td>\n",
              "      <td>Everyone 10+</td>\n",
              "      <td>Adventure;Action &amp; Adventure</td>\n",
              "      <td>July 31, 2018</td>\n",
              "      <td>2.347.225742</td>\n",
              "      <td>4.1 and up</td>\n",
              "    </tr>\n",
              "    <tr>\n",
              "      <th>2017</th>\n",
              "      <td>Jewels Crush- Match 3 Puzzle</td>\n",
              "      <td>FAMILY</td>\n",
              "      <td>4.4</td>\n",
              "      <td>14774</td>\n",
              "      <td>19M</td>\n",
              "      <td>1000000</td>\n",
              "      <td>Free</td>\n",
              "      <td>0.0</td>\n",
              "      <td>Everyone</td>\n",
              "      <td>Casual;Brain Games</td>\n",
              "      <td>July 23, 2018</td>\n",
              "      <td>1.9.3901</td>\n",
              "      <td>4.0.3 and up</td>\n",
              "    </tr>\n",
              "    <tr>\n",
              "      <th>2018</th>\n",
              "      <td>Coloring &amp; Learn</td>\n",
              "      <td>FAMILY</td>\n",
              "      <td>4.4</td>\n",
              "      <td>12753</td>\n",
              "      <td>51M</td>\n",
              "      <td>5000000</td>\n",
              "      <td>Free</td>\n",
              "      <td>0.0</td>\n",
              "      <td>Everyone</td>\n",
              "      <td>Educational;Creativity</td>\n",
              "      <td>July 17, 2018</td>\n",
              "      <td>1.49</td>\n",
              "      <td>4.0.3 and up</td>\n",
              "    </tr>\n",
              "  </tbody>\n",
              "</table>\n",
              "</div>\n",
              "      <button class=\"colab-df-convert\" onclick=\"convertToInteractive('df-03418efb-69ce-4100-93b5-80341eb3dbd8')\"\n",
              "              title=\"Convert this dataframe to an interactive table.\"\n",
              "              style=\"display:none;\">\n",
              "        \n",
              "  <svg xmlns=\"http://www.w3.org/2000/svg\" height=\"24px\"viewBox=\"0 0 24 24\"\n",
              "       width=\"24px\">\n",
              "    <path d=\"M0 0h24v24H0V0z\" fill=\"none\"/>\n",
              "    <path d=\"M18.56 5.44l.94 2.06.94-2.06 2.06-.94-2.06-.94-.94-2.06-.94 2.06-2.06.94zm-11 1L8.5 8.5l.94-2.06 2.06-.94-2.06-.94L8.5 2.5l-.94 2.06-2.06.94zm10 10l.94 2.06.94-2.06 2.06-.94-2.06-.94-.94-2.06-.94 2.06-2.06.94z\"/><path d=\"M17.41 7.96l-1.37-1.37c-.4-.4-.92-.59-1.43-.59-.52 0-1.04.2-1.43.59L10.3 9.45l-7.72 7.72c-.78.78-.78 2.05 0 2.83L4 21.41c.39.39.9.59 1.41.59.51 0 1.02-.2 1.41-.59l7.78-7.78 2.81-2.81c.8-.78.8-2.07 0-2.86zM5.41 20L4 18.59l7.72-7.72 1.47 1.35L5.41 20z\"/>\n",
              "  </svg>\n",
              "      </button>\n",
              "      \n",
              "  <style>\n",
              "    .colab-df-container {\n",
              "      display:flex;\n",
              "      flex-wrap:wrap;\n",
              "      gap: 12px;\n",
              "    }\n",
              "\n",
              "    .colab-df-convert {\n",
              "      background-color: #E8F0FE;\n",
              "      border: none;\n",
              "      border-radius: 50%;\n",
              "      cursor: pointer;\n",
              "      display: none;\n",
              "      fill: #1967D2;\n",
              "      height: 32px;\n",
              "      padding: 0 0 0 0;\n",
              "      width: 32px;\n",
              "    }\n",
              "\n",
              "    .colab-df-convert:hover {\n",
              "      background-color: #E2EBFA;\n",
              "      box-shadow: 0px 1px 2px rgba(60, 64, 67, 0.3), 0px 1px 3px 1px rgba(60, 64, 67, 0.15);\n",
              "      fill: #174EA6;\n",
              "    }\n",
              "\n",
              "    [theme=dark] .colab-df-convert {\n",
              "      background-color: #3B4455;\n",
              "      fill: #D2E3FC;\n",
              "    }\n",
              "\n",
              "    [theme=dark] .colab-df-convert:hover {\n",
              "      background-color: #434B5C;\n",
              "      box-shadow: 0px 1px 3px 1px rgba(0, 0, 0, 0.15);\n",
              "      filter: drop-shadow(0px 1px 2px rgba(0, 0, 0, 0.3));\n",
              "      fill: #FFFFFF;\n",
              "    }\n",
              "  </style>\n",
              "\n",
              "      <script>\n",
              "        const buttonEl =\n",
              "          document.querySelector('#df-03418efb-69ce-4100-93b5-80341eb3dbd8 button.colab-df-convert');\n",
              "        buttonEl.style.display =\n",
              "          google.colab.kernel.accessAllowed ? 'block' : 'none';\n",
              "\n",
              "        async function convertToInteractive(key) {\n",
              "          const element = document.querySelector('#df-03418efb-69ce-4100-93b5-80341eb3dbd8');\n",
              "          const dataTable =\n",
              "            await google.colab.kernel.invokeFunction('convertToInteractive',\n",
              "                                                     [key], {});\n",
              "          if (!dataTable) return;\n",
              "\n",
              "          const docLinkHtml = 'Like what you see? Visit the ' +\n",
              "            '<a target=\"_blank\" href=https://colab.research.google.com/notebooks/data_table.ipynb>data table notebook</a>'\n",
              "            + ' to learn more about interactive tables.';\n",
              "          element.innerHTML = '';\n",
              "          dataTable['output_type'] = 'display_data';\n",
              "          await google.colab.output.renderOutput(dataTable, element);\n",
              "          const docLink = document.createElement('div');\n",
              "          docLink.innerHTML = docLinkHtml;\n",
              "          element.appendChild(docLink);\n",
              "        }\n",
              "      </script>\n",
              "    </div>\n",
              "  </div>\n",
              "  "
            ]
          },
          "metadata": {},
          "execution_count": 254
        }
      ]
    },
    {
      "cell_type": "code",
      "source": [
        "df_family.groupby('Price')['Price'].count().plot()\n",
        "plt.ylabel('Number of Apps')\n",
        "plt.title('Price distribution for Family app category')\n",
        "plt.show()"
      ],
      "metadata": {
        "colab": {
          "base_uri": "https://localhost:8080/",
          "height": 295
        },
        "id": "n8XWkrmzyfeq",
        "outputId": "2375fecc-2caa-4284-f414-6fb1e9c6f4e8"
      },
      "execution_count": null,
      "outputs": [
        {
          "output_type": "display_data",
          "data": {
            "text/plain": [
              "<Figure size 432x288 with 1 Axes>"
            ],
            "image/png": "[encoded data removed]"
          },
          "metadata": {
            "needs_background": "light"
          }
        }
      ]
    },
    {
      "cell_type": "code",
      "source": [
        " df_family[df_family['Price'] == df_family['Price'].max()]"
      ],
      "metadata": {
        "colab": {
          "base_uri": "https://localhost:8080/",
          "height": 143
        },
        "id": "26LZ13NKzy33",
        "outputId": "11c6adc8-4f34-41b7-8cef-05ca07da376b"
      },
      "execution_count": null,
      "outputs": [
        {
          "output_type": "execute_result",
          "data": {
            "text/plain": [
              "                         App Category  Rating  Reviews  Size  Installs  Type  \\\n",
              "4197  most expensive app (H)   FAMILY     4.3        6  1.5M       100  Paid   \n",
              "5354          I am Rich Plus   FAMILY     4.0      856  8.7M     10000  Paid   \n",
              "5362           I Am Rich Pro   FAMILY     4.4      201  2.7M      5000  Paid   \n",
              "\n",
              "       Price Content Rating         Genres   Last Updated Current Ver  \\\n",
              "4197  399.99       Everyone  Entertainment  July 16, 2018         1.0   \n",
              "5354  399.99       Everyone  Entertainment   May 19, 2018         3.0   \n",
              "5362  399.99       Everyone  Entertainment   May 30, 2017        1.54   \n",
              "\n",
              "     Android Ver  \n",
              "4197  7.0 and up  \n",
              "5354  4.4 and up  \n",
              "5362  1.6 and up  "
            ],
            "text/html": [
              "\n",
              "  <div id=\"df-bf4a6f18-d74e-4c23-a448-40911aa89453\">\n",
              "    <div class=\"colab-df-container\">\n",
              "      <div>\n",
              "<style scoped>\n",
              "    .dataframe tbody tr th:only-of-type {\n",
              "        vertical-align: middle;\n",
              "    }\n",
              "\n",
              "    .dataframe tbody tr th {\n",
              "        vertical-align: top;\n",
              "    }\n",
              "\n",
              "    .dataframe thead th {\n",
              "        text-align: right;\n",
              "    }\n",
              "</style>\n",
              "<table border=\"1\" class=\"dataframe\">\n",
              "  <thead>\n",
              "    <tr style=\"text-align: right;\">\n",
              "      <th></th>\n",
              "      <th>App</th>\n",
              "      <th>Category</th>\n",
              "      <th>Rating</th>\n",
              "      <th>Reviews</th>\n",
              "      <th>Size</th>\n",
              "      <th>Installs</th>\n",
              "      <th>Type</th>\n",
              "      <th>Price</th>\n",
              "      <th>Content Rating</th>\n",
              "      <th>Genres</th>\n",
              "      <th>Last Updated</th>\n",
              "      <th>Current Ver</th>\n",
              "      <th>Android Ver</th>\n",
              "    </tr>\n",
              "  </thead>\n",
              "  <tbody>\n",
              "    <tr>\n",
              "      <th>4197</th>\n",
              "      <td>most expensive app (H)</td>\n",
              "      <td>FAMILY</td>\n",
              "      <td>4.3</td>\n",
              "      <td>6</td>\n",
              "      <td>1.5M</td>\n",
              "      <td>100</td>\n",
              "      <td>Paid</td>\n",
              "      <td>399.99</td>\n",
              "      <td>Everyone</td>\n",
              "      <td>Entertainment</td>\n",
              "      <td>July 16, 2018</td>\n",
              "      <td>1.0</td>\n",
              "      <td>7.0 and up</td>\n",
              "    </tr>\n",
              "    <tr>\n",
              "      <th>5354</th>\n",
              "      <td>I am Rich Plus</td>\n",
              "      <td>FAMILY</td>\n",
              "      <td>4.0</td>\n",
              "      <td>856</td>\n",
              "      <td>8.7M</td>\n",
              "      <td>10000</td>\n",
              "      <td>Paid</td>\n",
              "      <td>399.99</td>\n",
              "      <td>Everyone</td>\n",
              "      <td>Entertainment</td>\n",
              "      <td>May 19, 2018</td>\n",
              "      <td>3.0</td>\n",
              "      <td>4.4 and up</td>\n",
              "    </tr>\n",
              "    <tr>\n",
              "      <th>5362</th>\n",
              "      <td>I Am Rich Pro</td>\n",
              "      <td>FAMILY</td>\n",
              "      <td>4.4</td>\n",
              "      <td>201</td>\n",
              "      <td>2.7M</td>\n",
              "      <td>5000</td>\n",
              "      <td>Paid</td>\n",
              "      <td>399.99</td>\n",
              "      <td>Everyone</td>\n",
              "      <td>Entertainment</td>\n",
              "      <td>May 30, 2017</td>\n",
              "      <td>1.54</td>\n",
              "      <td>1.6 and up</td>\n",
              "    </tr>\n",
              "  </tbody>\n",
              "</table>\n",
              "</div>\n",
              "      <button class=\"colab-df-convert\" onclick=\"convertToInteractive('df-bf4a6f18-d74e-4c23-a448-40911aa89453')\"\n",
              "              title=\"Convert this dataframe to an interactive table.\"\n",
              "              style=\"display:none;\">\n",
              "        \n",
              "  <svg xmlns=\"http://www.w3.org/2000/svg\" height=\"24px\"viewBox=\"0 0 24 24\"\n",
              "       width=\"24px\">\n",
              "    <path d=\"M0 0h24v24H0V0z\" fill=\"none\"/>\n",
              "    <path d=\"M18.56 5.44l.94 2.06.94-2.06 2.06-.94-2.06-.94-.94-2.06-.94 2.06-2.06.94zm-11 1L8.5 8.5l.94-2.06 2.06-.94-2.06-.94L8.5 2.5l-.94 2.06-2.06.94zm10 10l.94 2.06.94-2.06 2.06-.94-2.06-.94-.94-2.06-.94 2.06-2.06.94z\"/><path d=\"M17.41 7.96l-1.37-1.37c-.4-.4-.92-.59-1.43-.59-.52 0-1.04.2-1.43.59L10.3 9.45l-7.72 7.72c-.78.78-.78 2.05 0 2.83L4 21.41c.39.39.9.59 1.41.59.51 0 1.02-.2 1.41-.59l7.78-7.78 2.81-2.81c.8-.78.8-2.07 0-2.86zM5.41 20L4 18.59l7.72-7.72 1.47 1.35L5.41 20z\"/>\n",
              "  </svg>\n",
              "      </button>\n",
              "      \n",
              "  <style>\n",
              "    .colab-df-container {\n",
              "      display:flex;\n",
              "      flex-wrap:wrap;\n",
              "      gap: 12px;\n",
              "    }\n",
              "\n",
              "    .colab-df-convert {\n",
              "      background-color: #E8F0FE;\n",
              "      border: none;\n",
              "      border-radius: 50%;\n",
              "      cursor: pointer;\n",
              "      display: none;\n",
              "      fill: #1967D2;\n",
              "      height: 32px;\n",
              "      padding: 0 0 0 0;\n",
              "      width: 32px;\n",
              "    }\n",
              "\n",
              "    .colab-df-convert:hover {\n",
              "      background-color: #E2EBFA;\n",
              "      box-shadow: 0px 1px 2px rgba(60, 64, 67, 0.3), 0px 1px 3px 1px rgba(60, 64, 67, 0.15);\n",
              "      fill: #174EA6;\n",
              "    }\n",
              "\n",
              "    [theme=dark] .colab-df-convert {\n",
              "      background-color: #3B4455;\n",
              "      fill: #D2E3FC;\n",
              "    }\n",
              "\n",
              "    [theme=dark] .colab-df-convert:hover {\n",
              "      background-color: #434B5C;\n",
              "      box-shadow: 0px 1px 3px 1px rgba(0, 0, 0, 0.15);\n",
              "      filter: drop-shadow(0px 1px 2px rgba(0, 0, 0, 0.3));\n",
              "      fill: #FFFFFF;\n",
              "    }\n",
              "  </style>\n",
              "\n",
              "      <script>\n",
              "        const buttonEl =\n",
              "          document.querySelector('#df-bf4a6f18-d74e-4c23-a448-40911aa89453 button.colab-df-convert');\n",
              "        buttonEl.style.display =\n",
              "          google.colab.kernel.accessAllowed ? 'block' : 'none';\n",
              "\n",
              "        async function convertToInteractive(key) {\n",
              "          const element = document.querySelector('#df-bf4a6f18-d74e-4c23-a448-40911aa89453');\n",
              "          const dataTable =\n",
              "            await google.colab.kernel.invokeFunction('convertToInteractive',\n",
              "                                                     [key], {});\n",
              "          if (!dataTable) return;\n",
              "\n",
              "          const docLinkHtml = 'Like what you see? Visit the ' +\n",
              "            '<a target=\"_blank\" href=https://colab.research.google.com/notebooks/data_table.ipynb>data table notebook</a>'\n",
              "            + ' to learn more about interactive tables.';\n",
              "          element.innerHTML = '';\n",
              "          dataTable['output_type'] = 'display_data';\n",
              "          await google.colab.output.renderOutput(dataTable, element);\n",
              "          const docLink = document.createElement('div');\n",
              "          docLink.innerHTML = docLinkHtml;\n",
              "          element.appendChild(docLink);\n",
              "        }\n",
              "      </script>\n",
              "    </div>\n",
              "  </div>\n",
              "  "
            ]
          },
          "metadata": {},
          "execution_count": 256
        }
      ]
    },
    {
      "cell_type": "code",
      "source": [
        "plt.rcParams['figure.figsize'] = (12,8)"
      ],
      "metadata": {
        "id": "40QP_gKUsIUR"
      },
      "execution_count": null,
      "outputs": []
    },
    {
      "cell_type": "code",
      "source": [
        "price"
      ],
      "metadata": {
        "colab": {
          "base_uri": "https://localhost:8080/"
        },
        "id": "zRpat6HnFPeo",
        "outputId": "d60544f3-31a7-4a45-a8cf-72dba33b8293"
      },
      "execution_count": null,
      "outputs": [
        {
          "output_type": "execute_result",
          "data": {
            "text/plain": [
              "Category\n",
              "ART_AND_DESIGN            5.97\n",
              "AUTO_AND_VEHICLES        13.47\n",
              "BEAUTY                    0.00\n",
              "BOOKS_AND_REFERENCE     119.77\n",
              "BUSINESS                185.27\n",
              "COMICS                    0.00\n",
              "COMMUNICATION            83.14\n",
              "DATING                   31.43\n",
              "EDUCATION                17.96\n",
              "ENTERTAINMENT             7.98\n",
              "EVENTS                  109.99\n",
              "FAMILY                 2433.79\n",
              "FINANCE                2900.83\n",
              "FOOD_AND_DRINK            8.48\n",
              "GAME                    287.30\n",
              "HEALTH_AND_FITNESS       67.34\n",
              "HOUSE_AND_HOME            0.00\n",
              "LIBRARIES_AND_DEMO        0.99\n",
              "LIFESTYLE              2360.87\n",
              "MAPS_AND_NAVIGATION      26.95\n",
              "MEDICAL                1439.96\n",
              "NEWS_AND_MAGAZINES        3.98\n",
              "PARENTING                 9.58\n",
              "PERSONALIZATION         152.47\n",
              "PHOTOGRAPHY             134.21\n",
              "PRODUCTIVITY            250.93\n",
              "SHOPPING                  5.48\n",
              "SOCIAL                   15.97\n",
              "SPORTS                  100.00\n",
              "TOOLS                   266.26\n",
              "TRAVEL_AND_LOCAL         49.95\n",
              "VIDEO_PLAYERS            10.46\n",
              "WEATHER                  32.42\n",
              "Name: Price, dtype: float64"
            ]
          },
          "metadata": {},
          "execution_count": 258
        }
      ]
    },
    {
      "cell_type": "code",
      "source": [
        "plt.plot(price, 'r--', color = 'red')\n",
        "plt.xticks(rotation = 90)\n",
        "plt.xlabel('Category------>', size = 10)\n",
        "plt.ylabel('Price------->')\n",
        "plt.title('Price vs Category');"
      ],
      "metadata": {
        "colab": {
          "base_uri": "https://localhost:8080/",
          "height": 629
        },
        "id": "f1003kGg_Ojm",
        "outputId": "71871e2c-08a7-4b0d-db22-7757c5f14b00"
      },
      "execution_count": null,
      "outputs": [
        {
          "output_type": "display_data",
          "data": {
            "text/plain": [
              "<Figure size 864x576 with 1 Axes>"
            ],
            "image/png": "[encoded data removed]"
          },
          "metadata": {
            "needs_background": "light"
          }
        }
      ]
    },
    {
      "cell_type": "code",
      "source": [
        "# to check if price of the app is affecting the number of installs\n",
        "plt.plot(dpi = 80)\n",
        "sns.scatterplot(x = 'Price', y = 'Installs', data = df );\n",
        "plt.xlim(0,30)\n",
        "plt.ylim(0,100000)\n",
        "plt.title('Installs vs Price');\n",
        "\n",
        "# it seems that price does not has any direct impact on the installs"
      ],
      "metadata": {
        "colab": {
          "base_uri": "https://localhost:8080/",
          "height": 513
        },
        "id": "89dJTZkolrz8",
        "outputId": "98059eb1-1e54-45a0-d2c7-c2e5858dc780"
      },
      "execution_count": null,
      "outputs": [
        {
          "output_type": "display_data",
          "data": {
            "text/plain": [
              "<Figure size 864x576 with 1 Axes>"
            ],
            "image/png": "[encoded data removed]"
          },
          "metadata": {
            "needs_background": "light"
          }
        }
      ]
    },
    {
      "cell_type": "markdown",
      "source": [
        "We checked that what category has highest numbers of apps but now let's check how much installs does each category has!"
      ],
      "metadata": {
        "id": "juOPCfBo8TQ6"
      }
    },
    {
      "cell_type": "code",
      "source": [
        "installs.plot(kind = 'bar')\n",
        "app.plot(kind= 'bar')\n",
        "plt.title('Installs for each category')\n",
        "plt.show()"
      ],
      "metadata": {
        "id": "PBEkyeTUnxgL",
        "colab": {
          "base_uri": "https://localhost:8080/",
          "height": 629
        },
        "outputId": "42c88f59-683a-4c5b-b433-dbf56a71a2cf"
      },
      "execution_count": null,
      "outputs": [
        {
          "output_type": "display_data",
          "data": {
            "text/plain": [
              "<Figure size 864x576 with 1 Axes>"
            ],
            "image/png": "[encoded data removed]"
          },
          "metadata": {
            "needs_background": "light"
          }
        }
      ]
    },
    {
      "cell_type": "code",
      "source": [
        "installs.plot(color = 'blue', label = 'Installs', kind = 'bar')\n",
        "reviews.plot(color = 'red', label = 'Reviews', kind = 'bar')\n",
        "plt.title('Installs vs Reviews')\n",
        "plt.show()"
      ],
      "metadata": {
        "colab": {
          "base_uri": "https://localhost:8080/",
          "height": 629
        },
        "id": "aqaAi9jbkdUE",
        "outputId": "7d316afc-2600-4b03-bd6c-d31ab5b1cada"
      },
      "execution_count": null,
      "outputs": [
        {
          "output_type": "display_data",
          "data": {
            "text/plain": [
              "<Figure size 864x576 with 1 Axes>"
            ],
            "image/png": "[encoded data removed]"
          },
          "metadata": {
            "needs_background": "light"
          }
        }
      ]
    },
    {
      "cell_type": "code",
      "source": [
        "df.corr()"
      ],
      "metadata": {
        "colab": {
          "base_uri": "https://localhost:8080/",
          "height": 175
        },
        "id": "3UG7msFbHeiE",
        "outputId": "ea99a1c1-351b-48b0-9b9f-c4a065137f9c"
      },
      "execution_count": null,
      "outputs": [
        {
          "output_type": "execute_result",
          "data": {
            "text/plain": [
              "            Rating   Reviews  Installs     Price\n",
              "Rating    1.000000  0.062982  0.045332 -0.019297\n",
              "Reviews   0.062982  1.000000  0.643112 -0.009674\n",
              "Installs  0.045332  0.643112  1.000000 -0.011698\n",
              "Price    -0.019297 -0.009674 -0.011698  1.000000"
            ],
            "text/html": [
              "\n",
              "  <div id=\"df-4a719615-fc8f-4884-a522-d5c92326fbd4\">\n",
              "    <div class=\"colab-df-container\">\n",
              "      <div>\n",
              "<style scoped>\n",
              "    .dataframe tbody tr th:only-of-type {\n",
              "        vertical-align: middle;\n",
              "    }\n",
              "\n",
              "    .dataframe tbody tr th {\n",
              "        vertical-align: top;\n",
              "    }\n",
              "\n",
              "    .dataframe thead th {\n",
              "        text-align: right;\n",
              "    }\n",
              "</style>\n",
              "<table border=\"1\" class=\"dataframe\">\n",
              "  <thead>\n",
              "    <tr style=\"text-align: right;\">\n",
              "      <th></th>\n",
              "      <th>Rating</th>\n",
              "      <th>Reviews</th>\n",
              "      <th>Installs</th>\n",
              "      <th>Price</th>\n",
              "    </tr>\n",
              "  </thead>\n",
              "  <tbody>\n",
              "    <tr>\n",
              "      <th>Rating</th>\n",
              "      <td>1.000000</td>\n",
              "      <td>0.062982</td>\n",
              "      <td>0.045332</td>\n",
              "      <td>-0.019297</td>\n",
              "    </tr>\n",
              "    <tr>\n",
              "      <th>Reviews</th>\n",
              "      <td>0.062982</td>\n",
              "      <td>1.000000</td>\n",
              "      <td>0.643112</td>\n",
              "      <td>-0.009674</td>\n",
              "    </tr>\n",
              "    <tr>\n",
              "      <th>Installs</th>\n",
              "      <td>0.045332</td>\n",
              "      <td>0.643112</td>\n",
              "      <td>1.000000</td>\n",
              "      <td>-0.011698</td>\n",
              "    </tr>\n",
              "    <tr>\n",
              "      <th>Price</th>\n",
              "      <td>-0.019297</td>\n",
              "      <td>-0.009674</td>\n",
              "      <td>-0.011698</td>\n",
              "      <td>1.000000</td>\n",
              "    </tr>\n",
              "  </tbody>\n",
              "</table>\n",
              "</div>\n",
              "      <button class=\"colab-df-convert\" onclick=\"convertToInteractive('df-4a719615-fc8f-4884-a522-d5c92326fbd4')\"\n",
              "              title=\"Convert this dataframe to an interactive table.\"\n",
              "              style=\"display:none;\">\n",
              "        \n",
              "  <svg xmlns=\"http://www.w3.org/2000/svg\" height=\"24px\"viewBox=\"0 0 24 24\"\n",
              "       width=\"24px\">\n",
              "    <path d=\"M0 0h24v24H0V0z\" fill=\"none\"/>\n",
              "    <path d=\"M18.56 5.44l.94 2.06.94-2.06 2.06-.94-2.06-.94-.94-2.06-.94 2.06-2.06.94zm-11 1L8.5 8.5l.94-2.06 2.06-.94-2.06-.94L8.5 2.5l-.94 2.06-2.06.94zm10 10l.94 2.06.94-2.06 2.06-.94-2.06-.94-.94-2.06-.94 2.06-2.06.94z\"/><path d=\"M17.41 7.96l-1.37-1.37c-.4-.4-.92-.59-1.43-.59-.52 0-1.04.2-1.43.59L10.3 9.45l-7.72 7.72c-.78.78-.78 2.05 0 2.83L4 21.41c.39.39.9.59 1.41.59.51 0 1.02-.2 1.41-.59l7.78-7.78 2.81-2.81c.8-.78.8-2.07 0-2.86zM5.41 20L4 18.59l7.72-7.72 1.47 1.35L5.41 20z\"/>\n",
              "  </svg>\n",
              "      </button>\n",
              "      \n",
              "  <style>\n",
              "    .colab-df-container {\n",
              "      display:flex;\n",
              "      flex-wrap:wrap;\n",
              "      gap: 12px;\n",
              "    }\n",
              "\n",
              "    .colab-df-convert {\n",
              "      background-color: #E8F0FE;\n",
              "      border: none;\n",
              "      border-radius: 50%;\n",
              "      cursor: pointer;\n",
              "      display: none;\n",
              "      fill: #1967D2;\n",
              "      height: 32px;\n",
              "      padding: 0 0 0 0;\n",
              "      width: 32px;\n",
              "    }\n",
              "\n",
              "    .colab-df-convert:hover {\n",
              "      background-color: #E2EBFA;\n",
              "      box-shadow: 0px 1px 2px rgba(60, 64, 67, 0.3), 0px 1px 3px 1px rgba(60, 64, 67, 0.15);\n",
              "      fill: #174EA6;\n",
              "    }\n",
              "\n",
              "    [theme=dark] .colab-df-convert {\n",
              "      background-color: #3B4455;\n",
              "      fill: #D2E3FC;\n",
              "    }\n",
              "\n",
              "    [theme=dark] .colab-df-convert:hover {\n",
              "      background-color: #434B5C;\n",
              "      box-shadow: 0px 1px 3px 1px rgba(0, 0, 0, 0.15);\n",
              "      filter: drop-shadow(0px 1px 2px rgba(0, 0, 0, 0.3));\n",
              "      fill: #FFFFFF;\n",
              "    }\n",
              "  </style>\n",
              "\n",
              "      <script>\n",
              "        const buttonEl =\n",
              "          document.querySelector('#df-4a719615-fc8f-4884-a522-d5c92326fbd4 button.colab-df-convert');\n",
              "        buttonEl.style.display =\n",
              "          google.colab.kernel.accessAllowed ? 'block' : 'none';\n",
              "\n",
              "        async function convertToInteractive(key) {\n",
              "          const element = document.querySelector('#df-4a719615-fc8f-4884-a522-d5c92326fbd4');\n",
              "          const dataTable =\n",
              "            await google.colab.kernel.invokeFunction('convertToInteractive',\n",
              "                                                     [key], {});\n",
              "          if (!dataTable) return;\n",
              "\n",
              "          const docLinkHtml = 'Like what you see? Visit the ' +\n",
              "            '<a target=\"_blank\" href=https://colab.research.google.com/notebooks/data_table.ipynb>data table notebook</a>'\n",
              "            + ' to learn more about interactive tables.';\n",
              "          element.innerHTML = '';\n",
              "          dataTable['output_type'] = 'display_data';\n",
              "          await google.colab.output.renderOutput(dataTable, element);\n",
              "          const docLink = document.createElement('div');\n",
              "          docLink.innerHTML = docLinkHtml;\n",
              "          element.appendChild(docLink);\n",
              "        }\n",
              "      </script>\n",
              "    </div>\n",
              "  </div>\n",
              "  "
            ]
          },
          "metadata": {},
          "execution_count": 263
        }
      ]
    },
    {
      "cell_type": "code",
      "source": [
        "(df['Content Rating'].value_counts(normalize = True)*100).plot(kind = 'pie', labeldistance=1.2, autopct = '%1.0f%%' )\n",
        "#plt.pie(labeldistance=1.2)\n",
        "plt.show()"
      ],
      "metadata": {
        "id": "eVLG6uYSIoC4",
        "colab": {
          "base_uri": "https://localhost:8080/",
          "height": 466
        },
        "outputId": "9b67e0b3-4fd8-4b54-a2e9-9e61893b88b7"
      },
      "execution_count": null,
      "outputs": [
        {
          "output_type": "display_data",
          "data": {
            "text/plain": [
              "<Figure size 864x576 with 1 Axes>"
            ],
            "image/png": "[encoded data removed]"
          },
          "metadata": {}
        }
      ]
    },
    {
      "cell_type": "code",
      "source": [
        "#as we can see that unrated category is almost 0, we will ignore that for now \n",
        "pie_data = df['Content Rating'].value_counts(normalize= True)*100"
      ],
      "metadata": {
        "id": "ike2HN6ghviM"
      },
      "execution_count": null,
      "outputs": []
    },
    {
      "cell_type": "code",
      "source": [
        "pie_data = pie_data[pie_data>1]"
      ],
      "metadata": {
        "id": "KbR5HRZJlYSS"
      },
      "execution_count": null,
      "outputs": []
    },
    {
      "cell_type": "code",
      "source": [
        "pie_data.plot(kind = 'pie', autopct = '%0.1f%%')\n",
        "plt.show()"
      ],
      "metadata": {
        "colab": {
          "base_uri": "https://localhost:8080/",
          "height": 466
        },
        "id": "t_BxXh8_lZWD",
        "outputId": "fa3dcba2-1762-45f3-9b79-88d85ca36cb4"
      },
      "execution_count": null,
      "outputs": [
        {
          "output_type": "display_data",
          "data": {
            "text/plain": [
              "<Figure size 864x576 with 1 Axes>"
            ],
            "image/png": "[encoded data removed]"
          },
          "metadata": {}
        }
      ]
    },
    {
      "cell_type": "code",
      "source": [
        ""
      ],
      "metadata": {
        "id": "wG--0sk_lsdB"
      },
      "execution_count": null,
      "outputs": []
    }
  ]
}